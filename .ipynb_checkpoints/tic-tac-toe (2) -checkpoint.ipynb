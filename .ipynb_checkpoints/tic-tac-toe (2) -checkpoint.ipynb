{
 "cells": [
  {
   "cell_type": "code",
   "execution_count": 39,
   "metadata": {
    "scrolled": true
   },
   "outputs": [],
   "source": [
    "import numpy as np\n",
    "\n",
    "class Board:\n",
    "    def __init__(self):\n",
    "        self.board = np.zeros([3,3])\n",
    "        self.moves = 0\n",
    "        \n",
    "    # returns the max and min of sum of each axis + each diagonal\n",
    "    def max_min(self):\n",
    "        col_sum = np.sum(self.board,0)\n",
    "        row_sum = np.sum(self.board,1)\n",
    "        maxs = np.maximum(col_sum,row_sum)\n",
    "        mins = np.minimum(col_sum,row_sum)\n",
    "        diag0 = self.board.trace(0)\n",
    "        diag1 = np.flip(self.board,0).trace(0)\n",
    "        return max(max(maxs), diag0, diag1), min(min(mins), diag0, diag1)\n",
    "\n",
    "    # returns winner (if one player had won), else None\n",
    "    def winner(self):\n",
    "        x,o = self.max_min()\n",
    "        if x == 3:\n",
    "            return 'x'\n",
    "        elif o == -3:\n",
    "            return 'o'\n",
    "        else:\n",
    "            return None\n",
    "\n",
    "    def game_over(self):\n",
    "        return self.winner() != None or self.moves == 9\n",
    "    \n",
    "    # record a move; return True if move is legal, else False\n",
    "    def move(self, row_col, player):\n",
    "        row = row_col // 3\n",
    "        col = row_col % 3\n",
    "        if self.board[row][col] == 0:\n",
    "            self.board[row][col] = player\n",
    "            self.moves += 1\n",
    "            return True\n",
    "        else:\n",
    "            return False\n",
    "        \n",
    "    # return a random legal move (do not call if all 9 squares are taken!)\n",
    "    def sample(self):\n",
    "        if self.moves == 9:\n",
    "            raise ValueError('cannot sample; board is full')\n",
    "        while True:\n",
    "            row = np.random.randint(3)  # 0,1,2\n",
    "            col = np.random.randint(3)\n",
    "            if self.board[row][col] == 0:\n",
    "                return row * 3 + col\n",
    "\n",
    "    def __str__(self):\n",
    "        return self.board.__str__()\n",
    "\n",
    "class RandomPlayer:\n",
    "    def __init__(self, player='x'):\n",
    "        self.player = player\n",
    "        self.value = 1 if self.player == 'x' else -1\n",
    "        \n",
    "    def move(self, board):\n",
    "        return board.move(board.sample(), self.value)"
   ]
  },
  {
   "cell_type": "code",
   "execution_count": 44,
   "metadata": {},
   "outputs": [
    {
     "name": "stdout",
     "output_type": "stream",
     "text": [
      "[[0. 0. 0.]\n",
      " [0. 0. 0.]\n",
      " [0. 1. 0.]]\n",
      "[[ 0.  0.  0.]\n",
      " [ 0.  0.  0.]\n",
      " [-1.  1.  0.]]\n",
      "[[ 1.  0.  0.]\n",
      " [ 0.  0.  0.]\n",
      " [-1.  1.  0.]]\n",
      "[[ 1.  0.  0.]\n",
      " [-1.  0.  0.]\n",
      " [-1.  1.  0.]]\n",
      "[[ 1.  0.  0.]\n",
      " [-1.  0.  1.]\n",
      " [-1.  1.  0.]]\n",
      "[[ 1.  0. -1.]\n",
      " [-1.  0.  1.]\n",
      " [-1.  1.  0.]]\n",
      "[[ 1.  0. -1.]\n",
      " [-1.  0.  1.]\n",
      " [-1.  1.  1.]]\n",
      "[[ 1.  0. -1.]\n",
      " [-1. -1.  1.]\n",
      " [-1.  1.  1.]]\n",
      "o wins\n"
     ]
    }
   ],
   "source": [
    "a = RandomPlayer(player='x')\n",
    "b = RandomPlayer(player='o')\n",
    "board = Board()\n",
    "while not board.game_over():\n",
    "    a.move(board)\n",
    "    print(board)\n",
    "    if not board.game_over():\n",
    "        b.move(board)\n",
    "        print(board)\n",
    "print(board.winner(),'wins')"
   ]
  },
  {
   "cell_type": "code",
   "execution_count": null,
   "metadata": {},
   "outputs": [],
   "source": []
  }
 ],
 "metadata": {
  "kernelspec": {
   "display_name": "Python 3",
   "language": "python",
   "name": "python3"
  },
  "language_info": {
   "codemirror_mode": {
    "name": "ipython",
    "version": 3
   },
   "file_extension": ".py",
   "mimetype": "text/x-python",
   "name": "python",
   "nbconvert_exporter": "python",
   "pygments_lexer": "ipython3",
   "version": "3.6.4"
  }
 },
 "nbformat": 4,
 "nbformat_minor": 2
}
