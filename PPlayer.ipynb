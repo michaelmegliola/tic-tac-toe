{
 "cells": [
  {
   "cell_type": "code",
   "execution_count": null,
   "metadata": {},
   "outputs": [],
   "source": [
    "from tictactoe import *\n",
    "\n",
    "class ProceduralPlayer:\n",
    "    \n",
    "    def __init__(n_player):\n",
    "        self.n = n_player\n",
    "    \n",
    "    def move(self, board, state):\n",
    "        if self.can_win(board):\n",
    "            return self.winning_move(board)\n",
    "        elif self.could_lose(board):\n",
    "            return self.block_opponent(board)\n",
    "        elif self.can_almost_win(board):\n",
    "            return self.best_move(board)\n",
    "        else:\n",
    "            return board.sample()\n",
    "    \n",
    "    def can_win(board):\n",
    "        \n",
    "\n",
    "    def update(self, board, state, reward):\n",
    "        pass\n",
    "    \n",
    "    def __str__(self):\n",
    "        return 'Pretty good procedural player'"
   ]
  }
 ],
 "metadata": {
  "kernelspec": {
   "display_name": "Python 3",
   "language": "python",
   "name": "python3"
  },
  "language_info": {
   "codemirror_mode": {
    "name": "ipython",
    "version": 3
   },
   "file_extension": ".py",
   "mimetype": "text/x-python",
   "name": "python",
   "nbconvert_exporter": "python",
   "pygments_lexer": "ipython3",
   "version": "3.6.4"
  }
 },
 "nbformat": 4,
 "nbformat_minor": 2
}
