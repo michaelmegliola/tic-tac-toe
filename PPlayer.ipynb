{
 "cells": [
  {
   "cell_type": "code",
   "execution_count": 1,
   "metadata": {},
   "outputs": [
    {
     "ename": "ModuleNotFoundError",
     "evalue": "No module named 'tictactoe'",
     "output_type": "error",
     "traceback": [
      "\u001b[0;31m---------------------------------------------------------------------------\u001b[0m",
      "\u001b[0;31mModuleNotFoundError\u001b[0m                       Traceback (most recent call last)",
      "\u001b[0;32m<ipython-input-1-cc76e5409629>\u001b[0m in \u001b[0;36m<module>\u001b[0;34m()\u001b[0m\n\u001b[0;32m----> 1\u001b[0;31m \u001b[0;32mfrom\u001b[0m \u001b[0mtictactoe\u001b[0m \u001b[0;32mimport\u001b[0m \u001b[0;34m*\u001b[0m\u001b[0;34m\u001b[0m\u001b[0m\n\u001b[0m\u001b[1;32m      2\u001b[0m \u001b[0;34m\u001b[0m\u001b[0m\n\u001b[1;32m      3\u001b[0m \u001b[0;32mclass\u001b[0m \u001b[0mProceduralPlayer\u001b[0m\u001b[0;34m:\u001b[0m\u001b[0;34m\u001b[0m\u001b[0m\n\u001b[1;32m      4\u001b[0m \u001b[0;34m\u001b[0m\u001b[0m\n\u001b[1;32m      5\u001b[0m     \u001b[0;32mdef\u001b[0m \u001b[0m__init__\u001b[0m\u001b[0;34m(\u001b[0m\u001b[0mself\u001b[0m\u001b[0;34m,\u001b[0m \u001b[0mn_player\u001b[0m\u001b[0;34m)\u001b[0m\u001b[0;34m:\u001b[0m\u001b[0;34m\u001b[0m\u001b[0m\n",
      "\u001b[0;31mModuleNotFoundError\u001b[0m: No module named 'tictactoe'"
     ]
    }
   ],
   "source": [
    "from tictactoe import *\n",
    "\n",
    "class ProceduralPlayer:\n",
    "    \n",
    "    def __init__(self, n_player):\n",
    "        self.n = n_player\n",
    "    \n",
    "    def move(self, game, state):\n",
    "        move = self.winning_move(game)\n",
    "        if move != 0:\n",
    "            return move\n",
    "        move = self.block_opponent(game)\n",
    "        if move != 0:\n",
    "            return move\n",
    "        return game.sample()\n",
    "\n",
    "    def winning_move(self, game):\n",
    "        for row in range(3):\n",
    "            for col in range(3):\n",
    "                if game.board[row][col] == 0:\n",
    "                    game.board[row][col] = self.n\n",
    "                    if game.max_min() == self.n * 3:\n",
    "                        game.board[row][col] = 0\n",
    "                        return row * 3 + col\n",
    "                    else:\n",
    "                        game.board[row][col] = 0\n",
    "        return 0\n",
    "\n",
    "    def block_opponent(self, game):\n",
    "        for row in range(3):\n",
    "            for col in range(3):\n",
    "                if game.board[row][col] == 0:\n",
    "                    game.board[row][col] = self.n\n",
    "                    if game.max_min() == -self.n * 3:\n",
    "                        game.board[row][col] = 0\n",
    "                        return row * 3 + col\n",
    "                    else:\n",
    "                        game.board[row][col] = 0\n",
    "        return 0\n",
    "        \n",
    "    def update(self, board, state, reward):\n",
    "        pass\n",
    "    \n",
    "    def __str__(self):\n",
    "        return 'Pretty good procedural player'"
   ]
  },
  {
   "cell_type": "code",
   "execution_count": null,
   "metadata": {},
   "outputs": [],
   "source": [
    "a = ProceduralPlayer(1)\n",
    "b = HumanPlayer\n",
    "g = Board(b,b)\n",
    "g.play()"
   ]
  },
  {
   "cell_type": "code",
   "execution_count": null,
   "metadata": {},
   "outputs": [],
   "source": []
  }
 ],
 "metadata": {
  "kernelspec": {
   "display_name": "Python 3",
   "language": "python",
   "name": "python3"
  },
  "language_info": {
   "codemirror_mode": {
    "name": "ipython",
    "version": 3
   },
   "file_extension": ".py",
   "mimetype": "text/x-python",
   "name": "python",
   "nbconvert_exporter": "python",
   "pygments_lexer": "ipython3",
   "version": "3.6.4"
  }
 },
 "nbformat": 4,
 "nbformat_minor": 2
}
