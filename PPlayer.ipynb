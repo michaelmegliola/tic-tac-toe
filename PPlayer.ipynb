{
 "cells": [
  {
   "cell_type": "code",
   "execution_count": 4,
   "metadata": {},
   "outputs": [
    {
     "name": "stdout",
     "output_type": "stream",
     "text": [
      "------------------------------------------\n",
      "-  -  -  \n",
      "\n",
      "X  -  -  \n",
      "\n",
      "-  -  -  \n",
      "\n",
      "x state = 9868, o state = 9814\n",
      "0\n",
      "------------------------------------------\n",
      "O  -  -  \n",
      "\n",
      "X  -  -  \n",
      "\n",
      "-  X  -  \n",
      "\n",
      "x state = 12054, o state = 7628\n",
      "1\n",
      "------------------------------------------\n",
      "O  O  X  \n",
      "\n",
      "X  -  -  \n",
      "\n",
      "-  X  -  \n",
      "\n",
      "x state = 12060, o state = 7622\n",
      "4\n",
      "------------------------------------------\n",
      "O  O  X  \n",
      "\n",
      "X  O  -  \n",
      "\n",
      "X  X  -  \n",
      "\n",
      "x state = 12708, o state = 6974\n",
      "8\n",
      "Human player received a reward 1\n"
     ]
    }
   ],
   "source": [
    "from tictactoe import *\n",
    "\n",
    "a = ProceduralPlayer()\n",
    "b = HumanPlayer()\n",
    "g = Game(a,b)\n",
    "g.play()"
   ]
  },
  {
   "cell_type": "code",
   "execution_count": null,
   "metadata": {},
   "outputs": [],
   "source": []
  }
 ],
 "metadata": {
  "kernelspec": {
   "display_name": "Python 3",
   "language": "python",
   "name": "python3"
  },
  "language_info": {
   "codemirror_mode": {
    "name": "ipython",
    "version": 3
   },
   "file_extension": ".py",
   "mimetype": "text/x-python",
   "name": "python",
   "nbconvert_exporter": "python",
   "pygments_lexer": "ipython3",
   "version": "3.6.5"
  }
 },
 "nbformat": 4,
 "nbformat_minor": 2
}
