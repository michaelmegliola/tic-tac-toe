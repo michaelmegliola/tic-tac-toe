{
 "cells": [
  {
   "cell_type": "code",
   "execution_count": 3,
   "metadata": {},
   "outputs": [],
   "source": [
    "from tictactoe import *\n",
    "\n",
    "class ProceduralPlayer:\n",
    "    \n",
    "    def __init__(self, n_player):\n",
    "        self.n = n_player\n",
    "    \n",
    "    def move(self, game, state):\n",
    "        move = self.winning_move(game)\n",
    "        if move != 0:\n",
    "            return move\n",
    "        move = self.block_opponent(game)\n",
    "        if move != 0:\n",
    "            return move\n",
    "        return game.sample()\n",
    "\n",
    "    def winning_move(self, game):\n",
    "        for row in range(3):\n",
    "            for col in range(3):\n",
    "                if game.board[row][col] == 0:\n",
    "                    game.board[row][col] = self.n\n",
    "                    if game.max_min() == self.n * 3:\n",
    "                        game.board[row][col] = 0\n",
    "                        return row * 3 + col\n",
    "                    else:\n",
    "                        game.board[row][col] = 0\n",
    "        return 0\n",
    "\n",
    "    def block_opponent(self, game):\n",
    "        for row in range(3):\n",
    "            for col in range(3):\n",
    "                if game.board[row][col] == 0:\n",
    "                    game.board[row][col] = self.n\n",
    "                    if game.max_min() == -self.n * 3:\n",
    "                        game.board[row][col] = 0\n",
    "                        return row * 3 + col\n",
    "                    else:\n",
    "                        game.board[row][col] = 0\n",
    "        return 0\n",
    "        \n",
    "    def update(self, board, state, reward):\n",
    "        pass\n",
    "    \n",
    "    def __str__(self):\n",
    "        return 'Pretty good procedural player'"
   ]
  },
  {
   "cell_type": "code",
   "execution_count": null,
   "metadata": {},
   "outputs": [
    {
     "name": "stdout",
     "output_type": "stream",
     "text": [
      "------------------------------------------\n",
      "-  -  -  \n",
      "\n",
      "X  -  -  \n",
      "\n",
      "-  -  -  \n",
      "\n",
      "x state = 9868, o state = 9814\n"
     ]
    }
   ],
   "source": [
    "a = ProceduralPlayer(1)\n",
    "b = HumanPlayer()\n",
    "g = Game(a,b)\n",
    "g.play()"
   ]
  },
  {
   "cell_type": "code",
   "execution_count": null,
   "metadata": {},
   "outputs": [],
   "source": []
  }
 ],
 "metadata": {
  "kernelspec": {
   "display_name": "Python 3",
   "language": "python",
   "name": "python3"
  }
 },
 "nbformat": 4,
 "nbformat_minor": 2
}
