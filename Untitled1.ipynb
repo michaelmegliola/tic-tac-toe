{
 "cells": [
  {
   "cell_type": "code",
   "execution_count": 3,
   "metadata": {},
   "outputs": [],
   "source": [
    "from tictactoe import *\n",
    "\n",
    "class QPlayer(BasePlayer):\n",
    "    \n",
    "    EXPLORE = 0.05\n",
    "    \n",
    "    def __init__(self, explore=EXPLORE):\n",
    "        super().__init__()\n",
    "        self.q_table = np.zeros([3**9,9])\n",
    "        self.explore = explore\n",
    "        self.state = 0\n",
    "        self.action = 0\n",
    "        \n",
    "    def move(self, game, state):\n",
    "        self.state = state\n",
    "        self.action = np.argmax(self.q_table[self.state])\n",
    "        if np.random.random() < self.explore:\n",
    "            self.action = game.sample()\n",
    "        return self.action\n",
    "\n",
    "    def update(self, game, state, reward):\n",
    "        self.q_table[self.state][self.action] += reward + np.amax(self.q_table[state])\n",
    "        self.q_table = np.minimum(self.q_table,  100)\n",
    "        self.q_table = np.maximum(self.q_table, -100)"
   ]
  },
  {
   "cell_type": "code",
   "execution_count": null,
   "metadata": {},
   "outputs": [
    {
     "name": "stdout",
     "output_type": "stream",
     "text": [
      "0 MinimaxPlayer w/l/t=2/0/8 QPlayer w/l/t=0/2/8 -802.0\n",
      "1 MinimaxPlayer w/l/t=9/0/1 QPlayer w/l/t=0/9/1 -924.0\n",
      "2 MinimaxPlayer w/l/t=10/0/0 QPlayer w/l/t=0/10/0 -1040.0\n",
      "3 MinimaxPlayer w/l/t=9/0/1 QPlayer w/l/t=0/9/1 -1300.0\n",
      "4 MinimaxPlayer w/l/t=0/0/10 QPlayer w/l/t=0/0/10 -1300.0\n",
      "5 MinimaxPlayer w/l/t=2/0/8 QPlayer w/l/t=0/2/8 -1300.0\n",
      "6 MinimaxPlayer w/l/t=1/0/9 QPlayer w/l/t=0/1/9 -1500.0\n",
      "7 MinimaxPlayer w/l/t=0/0/10 QPlayer w/l/t=0/0/10 -1500.0\n",
      "8 MinimaxPlayer w/l/t=0/0/10 QPlayer w/l/t=0/0/10 -1600.0\n",
      "9 MinimaxPlayer w/l/t=0/0/10 QPlayer w/l/t=0/0/10 -1700.0\n",
      "10 MinimaxPlayer w/l/t=0/0/10 QPlayer w/l/t=0/0/10 -1700.0\n",
      "11 MinimaxPlayer w/l/t=2/0/8 QPlayer w/l/t=0/2/8 -1700.0\n",
      "12 MinimaxPlayer w/l/t=2/0/8 QPlayer w/l/t=0/2/8 -1700.0\n",
      "13 MinimaxPlayer w/l/t=1/0/9 QPlayer w/l/t=0/1/9 -1801.0\n",
      "14 MinimaxPlayer w/l/t=1/0/9 QPlayer w/l/t=0/1/9 -1802.0\n",
      "15 MinimaxPlayer w/l/t=0/0/10 QPlayer w/l/t=0/0/10 -2002.0\n",
      "16 MinimaxPlayer w/l/t=0/0/10 QPlayer w/l/t=0/0/10 -2002.0\n",
      "17 MinimaxPlayer w/l/t=1/0/9 QPlayer w/l/t=0/1/9 -2102.0\n",
      "18 MinimaxPlayer w/l/t=1/0/9 QPlayer w/l/t=0/1/9 -2202.0\n",
      "19 MinimaxPlayer w/l/t=2/0/8 QPlayer w/l/t=0/2/8 -2302.0\n",
      "20 MinimaxPlayer w/l/t=2/0/8 QPlayer w/l/t=0/2/8 -2303.0\n",
      "21 MinimaxPlayer w/l/t=0/0/10 QPlayer w/l/t=0/0/10 -2403.0\n",
      "22 MinimaxPlayer w/l/t=0/0/10 QPlayer w/l/t=0/0/10 -2503.0\n",
      "23 MinimaxPlayer w/l/t=1/0/9 QPlayer w/l/t=0/1/9 -2603.0\n",
      "24 MinimaxPlayer w/l/t=0/0/10 QPlayer w/l/t=0/0/10 -2603.0\n",
      "25 MinimaxPlayer w/l/t=0/0/10 QPlayer w/l/t=0/0/10 -2703.0\n",
      "26 MinimaxPlayer w/l/t=1/0/9 QPlayer w/l/t=0/1/9 -2703.0\n",
      "27 MinimaxPlayer w/l/t=0/0/10 QPlayer w/l/t=0/0/10 -3003.0\n",
      "28 MinimaxPlayer w/l/t=1/0/9 QPlayer w/l/t=0/1/9 -3004.0\n",
      "29 MinimaxPlayer w/l/t=3/0/7 QPlayer w/l/t=0/3/7 -3005.0\n",
      "30 MinimaxPlayer w/l/t=0/0/10 QPlayer w/l/t=0/0/10 -3105.0\n",
      "31 MinimaxPlayer w/l/t=0/0/10 QPlayer w/l/t=0/0/10 -3105.0\n",
      "32 MinimaxPlayer w/l/t=3/0/7 QPlayer w/l/t=0/3/7 -3107.0\n",
      "33 MinimaxPlayer w/l/t=1/0/9 QPlayer w/l/t=0/1/9 -3308.0\n"
     ]
    }
   ],
   "source": [
    "q = QPlayer()\n",
    "m = MinimaxPlayer()\n",
    "g = Game(m,q)\n",
    "for i in range(100):\n",
    "    m.reset_metrics()\n",
    "    q.reset_metrics()\n",
    "    for n in range(10):\n",
    "        g.play()\n",
    "    print(i,m,q,np.sum(q.q_table))"
   ]
  },
  {
   "cell_type": "code",
   "execution_count": null,
   "metadata": {},
   "outputs": [],
   "source": []
  }
 ],
 "metadata": {
  "kernelspec": {
   "display_name": "Python 3",
   "language": "python",
   "name": "python3"
  },
  "language_info": {
   "codemirror_mode": {
    "name": "ipython",
    "version": 3
   },
   "file_extension": ".py",
   "mimetype": "text/x-python",
   "name": "python",
   "nbconvert_exporter": "python",
   "pygments_lexer": "ipython3",
   "version": "3.6.4"
  }
 },
 "nbformat": 4,
 "nbformat_minor": 2
}
