{
 "cells": [
  {
   "cell_type": "code",
   "execution_count": 5,
   "metadata": {},
   "outputs": [],
   "source": [
    "from tictactoe import *\n",
    "\n",
    "class QPlayer:\n",
    "    alpha = 0.10\n",
    "    explore = 0.10\n",
    "\n",
    "    def __init__(self):\n",
    "        self.q_table = np.zeros([3**9,9])\n",
    "        self.explore = QPlayer.explore\n",
    "        \n",
    "    def move(self, board, state):\n",
    "        self.action = np.argmax(self.q_table[state])\n",
    "        if np.random.random() < self.explore:\n",
    "            self.action = board.sample()\n",
    "        return self.action\n",
    "\n",
    "    def update(self, board, state, reward):\n",
    "        future_state = board.state()\n",
    "        self.q_table[state][self.action] += reward\n",
    "        if reward > 0:\n",
    "            self.explore *= 0.999\n",
    "\n",
    "    def __str__(self):\n",
    "        return str(np.sum(self.q_table))"
   ]
  },
  {
   "cell_type": "code",
   "execution_count": null,
   "metadata": {},
   "outputs": [],
   "source": [
    "q = QPlayer()\n",
    "h = RandomPlayer()\n",
    "q_wins = 0\n",
    "for i in range(100000):\n",
    "    b = Board(q,h)\n",
    "    b.play()\n",
    "    if b.winner() == 1:\n",
    "        q_wins += 1\n",
    "print(q_wins / 100000)\n",
    "q_wins = 0\n",
    "for i in range(1000):\n",
    "    b = Board(q,h)\n",
    "    b.play()\n",
    "    if b.winner() == 1:\n",
    "        q_wins += 1\n",
    "print(q_wins / 1000)"
   ]
  },
  {
   "cell_type": "code",
   "execution_count": null,
   "metadata": {},
   "outputs": [],
   "source": [
    "h = HumanPlayer()\n",
    "b = Board(q,h)\n",
    "for n in range(10):\n",
    "    b.play(verbose=True)"
   ]
  },
  {
   "cell_type": "code",
   "execution_count": null,
   "metadata": {},
   "outputs": [],
   "source": []
  }
 ],
 "metadata": {
  "kernelspec": {
   "display_name": "Python 3",
   "language": "python",
   "name": "python3"
  },
  "language_info": {
   "codemirror_mode": {
    "name": "ipython",
    "version": 3
   },
   "file_extension": ".py",
   "mimetype": "text/x-python",
   "name": "python",
   "nbconvert_exporter": "python",
   "pygments_lexer": "ipython3",
   "version": "3.6.5"
  }
 },
 "nbformat": 4,
 "nbformat_minor": 2
}
