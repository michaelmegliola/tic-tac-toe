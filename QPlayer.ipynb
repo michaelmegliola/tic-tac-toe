{
 "cells": [
  {
   "cell_type": "code",
   "execution_count": 6,
   "metadata": {},
   "outputs": [],
   "source": [
    "from tictactoe import *\n",
    "\n",
    "class QPlayer:\n",
    "    \n",
    "    EXPLORE = 0.10\n",
    "    ALPHA = 0.01\n",
    "    EPSILON = 0.90\n",
    "    \n",
    "    def __init__(self, explore=EXPLORE, alpha=ALPHA, epsilon=EPSILON):\n",
    "        self.q_table = np.zeros([3**9,9])\n",
    "        self.explore = explore\n",
    "        self.wins = 0\n",
    "        self.losses = 0\n",
    "        self.a = alpha\n",
    "        self.e = epsilon\n",
    "        \n",
    "    def move(self, game, state):\n",
    "        self.state = state\n",
    "        self.action = np.argmax(self.q_table[state])\n",
    "        if np.random.random() < self.explore:\n",
    "            self.action = game.sample()\n",
    "        return self.action\n",
    "\n",
    "    def update(self, game, state, reward):\n",
    "        self.q_table[self.state][self.action] = ((1 - self.a) * self.q_table[self.state][self.action]\n",
    "                                                  + self.a * (reward + self.e * np.amax(self.q_table[state])))\n",
    "        if reward > 0:\n",
    "            self.explore *= 0.9999\n",
    "            self.wins += 1\n",
    "        if reward < 0:\n",
    "            self.losses += 1\n",
    "            \n",
    "    def reset_metrics(self):\n",
    "        self.wins = 0\n",
    "        self.losses = 0\n",
    "\n",
    "    def __str__(self):\n",
    "        if self.wins + self.losses > 0:\n",
    "            return (str(np.sum(self.q_table)) \n",
    "                    + ' win rate = ' + str(self.wins / (self.wins + self.losses))\n",
    "                    + ' loss rate = ' + str(self.losses / (self.wins + self.losses))\n",
    "                    + ' explore = ' + str(self.explore))\n",
    "        else:\n",
    "            return 'inexperienced Q player'"
   ]
  },
  {
   "cell_type": "code",
   "execution_count": null,
   "metadata": {},
   "outputs": [
    {
     "name": "stdout",
     "output_type": "stream",
     "text": [
      "1000 -48.546771259333745 win rate = 0.07061503416856492 loss rate = 0.929384965831435 explore = 0.09938188722357204\n",
      "2000 -72.14829301941187 win rate = 0.17409470752089137 loss rate = 0.8259052924791086 explore = 0.09814728424702479\n",
      "3000 -89.50158702798637 win rate = 0.2197962154294032 loss rate = 0.7802037845705968 explore = 0.09667632043310306\n",
      "4000 -101.42141635524372 win rate = 0.2398753894080997 loss rate = 0.7601246105919003 explore = 0.09519883704645137\n",
      "5000 -114.24348569377287 win rate = 0.21954887218045113 loss rate = 0.7804511278195488 explore = 0.09381896262627748\n",
      "6000 -123.12664834224664 win rate = 0.24769230769230768 loss rate = 0.7523076923076923 explore = 0.09232049741798797\n",
      "7000 -132.65714555064343 win rate = 0.23311897106109325 loss rate = 0.7668810289389068 explore = 0.09099144268562193\n",
      "8000 -141.23401409167724 win rate = 0.2370486656200942 loss rate = 0.7629513343799058 explore = 0.08962772569035374\n",
      "9000 -152.18572994062976 win rate = 0.25 loss rate = 0.75 explore = 0.08824031374898071\n",
      "10000 -160.2953786606998 win rate = 0.2659235668789809 loss rate = 0.7340764331210191 explore = 0.08677886450372933\n",
      "11000 -168.68796497276244 win rate = 0.2775974025974026 loss rate = 0.7224025974025974 explore = 0.08530748847114013\n",
      "12000 -176.89745885784524 win rate = 0.2384737678855326 loss rate = 0.7615262321144675 explore = 0.08403736239822321\n",
      "13000 -183.44012819926215 win rate = 0.27527216174183516 loss rate = 0.7247278382581649 explore = 0.08256291471799865\n",
      "14000 -188.19471480789107 win rate = 0.23923444976076555 loss rate = 0.7607655502392344 explore = 0.0813336520528011\n",
      "15000 -194.58496615444827 win rate = 0.26785714285714285 loss rate = 0.7321428571428571 explore = 0.08000259168762025\n",
      "16000 -200.7598545184225 win rate = 0.24247226624405704 loss rate = 0.757527733755943 explore = 0.07878780808763093\n",
      "17000 -205.64752004761908 win rate = 0.2684124386252046 loss rate = 0.7315875613747954 explore = 0.07750616217537536\n",
      "18000 -211.82089421775558 win rate = 0.2887096774193548 loss rate = 0.7112903225806452 explore = 0.0761310768482655\n",
      "19000 -218.36616256616412 win rate = 0.2617124394184168 loss rate = 0.7382875605815832 explore = 0.07490762891618458\n",
      "20000 -224.9516361293491 win rate = 0.26580226904376014 loss rate = 0.7341977309562399 explore = 0.07368910210692996\n",
      "21000 -230.49205414432376 win rate = 0.24242424242424243 loss rate = 0.7575757575757576 explore = 0.07257744219049411\n",
      "22000 -233.71413683086686 win rate = 0.31209150326797386 loss rate = 0.6879084967320261 explore = 0.07120429964421236\n",
      "23000 -239.16469860499998 win rate = 0.23500810372771475 loss rate = 0.7649918962722853 explore = 0.07017923571958379\n",
      "24000 -243.88423324248075 win rate = 0.2576271186440678 loss rate = 0.7423728813559322 explore = 0.06912052498645044\n",
      "25000 -247.48953708147062 win rate = 0.2924071082390953 loss rate = 0.7075928917609047 explore = 0.06788063633254895\n",
      "26000 -250.82592246975057 win rate = 0.2908496732026144 loss rate = 0.7091503267973857 explore = 0.0666829917823236\n"
     ]
    }
   ],
   "source": [
    "p = ProceduralPlayer()\n",
    "q = QPlayer()\n",
    "g = Game(p,q)\n",
    "for m in range(100):\n",
    "    for n in range(1000):\n",
    "        g.play()\n",
    "    print(g.i,q)\n",
    "    q.reset_metrics()"
   ]
  },
  {
   "cell_type": "code",
   "execution_count": null,
   "metadata": {},
   "outputs": [],
   "source": [
    "h = HumanPlayer()\n",
    "b = Game(q,h)\n",
    "while True:\n",
    "    b.play(verbose=True)"
   ]
  },
  {
   "cell_type": "code",
   "execution_count": null,
   "metadata": {},
   "outputs": [],
   "source": []
  }
 ],
 "metadata": {
  "kernelspec": {
   "display_name": "Python 3",
   "language": "python",
   "name": "python3"
  },
  "language_info": {
   "codemirror_mode": {
    "name": "ipython",
    "version": 3
   },
   "file_extension": ".py",
   "mimetype": "text/x-python",
   "name": "python",
   "nbconvert_exporter": "python",
   "pygments_lexer": "ipython3",
   "version": "3.6.5"
  }
 },
 "nbformat": 4,
 "nbformat_minor": 2
}
