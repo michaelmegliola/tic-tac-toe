{
 "cells": [
  {
   "cell_type": "code",
   "execution_count": 1,
   "metadata": {},
   "outputs": [],
   "source": [
    "from tictactoe import *\n",
    "\n",
    "class QPlayer:\n",
    "    \n",
    "    EXPLORE = 0.10\n",
    "    ALPHA = 0.01\n",
    "    EPSILON = 0.90\n",
    "    \n",
    "    def __init__(self, explore=EXPLORE, verbose=False, alpha=ALPHA, epsilon=EPSILON):\n",
    "        self.q_table = np.zeros([3**9,9])\n",
    "        self.explore = explore\n",
    "        self.wins = 0\n",
    "        self.losses = 0\n",
    "        self.verbose = verbose\n",
    "        self.a = alpha\n",
    "        self.e = epsilon\n",
    "        \n",
    "    def move(self, board, state):\n",
    "        self.state = state\n",
    "        self.action = np.argmax(self.q_table[state])\n",
    "        if self.verbose:\n",
    "            print(board)\n",
    "            print(state,self.q_table[state])\n",
    "        if np.random.random() < self.explore:\n",
    "            self.action = board.sample()\n",
    "        return self.action\n",
    "    \n",
    "    def set_verbose(self, v):\n",
    "        self.verbose = v\n",
    "\n",
    "    def update(self, board, state, reward):\n",
    "        self.q_table[self.state][self.action] = ((1 - self.a) * self.q_table[self.state][self.action]\n",
    "                                                  + self.a * (reward + self.e * np.amax(self.q_table[state])))\n",
    "        if reward > 0:\n",
    "            self.explore *= 0.9999\n",
    "            self.wins += 1\n",
    "        if reward < 0:\n",
    "            self.losses += 1\n",
    "\n",
    "    def __str__(self):\n",
    "        return str(np.sum(self.q_table)) + ' wins = ' + str(self.wins) + ' losses = ' + str(self.losses)"
   ]
  },
  {
   "cell_type": "code",
   "execution_count": 2,
   "metadata": {},
   "outputs": [
    {
     "name": "stdout",
     "output_type": "stream",
     "text": [
      "-32.07379465771172 wins = 87975 losses = 3444\n",
      "-120.60650448128526 wins = 2267 losses = 89075\n",
      "-64.67246987892354 wins = 88365 losses = 102276\n",
      "-133.94668948107085 wins = 100698 losses = 89855\n"
     ]
    },
    {
     "ename": "TypeError",
     "evalue": "play() got an unexpected keyword argument 'verbose'",
     "output_type": "error",
     "traceback": [
      "\u001b[0;31m---------------------------------------------------------------------------\u001b[0m",
      "\u001b[0;31mTypeError\u001b[0m                                 Traceback (most recent call last)",
      "\u001b[0;32m<ipython-input-2-aa425793ac48>\u001b[0m in \u001b[0;36m<module>\u001b[0;34m()\u001b[0m\n\u001b[1;32m     16\u001b[0m \u001b[0mb\u001b[0m \u001b[0;34m=\u001b[0m \u001b[0mBoard\u001b[0m\u001b[0;34m(\u001b[0m\u001b[0mq\u001b[0m\u001b[0;34m,\u001b[0m\u001b[0mh\u001b[0m\u001b[0;34m)\u001b[0m\u001b[0;34m\u001b[0m\u001b[0m\n\u001b[1;32m     17\u001b[0m \u001b[0;32mwhile\u001b[0m \u001b[0;32mTrue\u001b[0m\u001b[0;34m:\u001b[0m\u001b[0;34m\u001b[0m\u001b[0m\n\u001b[0;32m---> 18\u001b[0;31m     \u001b[0mb\u001b[0m\u001b[0;34m.\u001b[0m\u001b[0mplay\u001b[0m\u001b[0;34m(\u001b[0m\u001b[0mverbose\u001b[0m\u001b[0;34m=\u001b[0m\u001b[0;32mTrue\u001b[0m\u001b[0;34m)\u001b[0m\u001b[0;34m\u001b[0m\u001b[0m\n\u001b[0m",
      "\u001b[0;31mTypeError\u001b[0m: play() got an unexpected keyword argument 'verbose'"
     ]
    }
   ],
   "source": [
    "q = QPlayer()\n",
    "r = QPlayer()\n",
    "b = Board(q,r)\n",
    "for n in range(100000):\n",
    "    b.play()\n",
    "print(q)\n",
    "print(r)\n",
    "b = Board(r,q)\n",
    "for n in range(100000):\n",
    "    b.play()\n",
    "print(q)\n",
    "print(r)\n",
    "\n",
    "q.set_verbose(True)\n",
    "h = HumanPlayer()\n",
    "b = Board(q,h)\n",
    "while True:\n",
    "    b.play(verbose=True)\n"
   ]
  },
  {
   "cell_type": "code",
   "execution_count": null,
   "metadata": {},
   "outputs": [],
   "source": [
    "print(q,r)"
   ]
  },
  {
   "cell_type": "code",
   "execution_count": null,
   "metadata": {},
   "outputs": [],
   "source": [
    "q.set_verbose(True)\n",
    "h = HumanPlayer()\n",
    "b = Board(q,h)\n",
    "while True:\n",
    "    b.play(verbose=True)"
   ]
  },
  {
   "cell_type": "code",
   "execution_count": null,
   "metadata": {},
   "outputs": [],
   "source": [
    "q = QPlayer()\n",
    "r = QPlayer()\n",
    "b = Board(q,r)\n",
    "for n in range(10000):\n",
    "    b.play()\n",
    "print(q)\n",
    "print(r)\n",
    "b = Board(r,q)\n",
    "for n in range(10000):\n",
    "    b.play()\n",
    "print(q)\n",
    "print(r)"
   ]
  },
  {
   "cell_type": "code",
   "execution_count": null,
   "metadata": {},
   "outputs": [],
   "source": [
    "h = HumanPlayer()\n",
    "b = Board(q,h)\n",
    "while True:\n",
    "    b.play(verbose=True)"
   ]
  },
  {
   "cell_type": "code",
   "execution_count": null,
   "metadata": {},
   "outputs": [],
   "source": [
    "q0 = QPlayer()\n",
    "q1 = QPlayer()\n",
    "\n",
    "b = Board(q0,q1)\n",
    "for i in range(10000):\n",
    "    b.play()\n",
    "    \n",
    "print(q0)\n",
    "print(q1)\n",
    "\n",
    "b = Board(q1,q0)\n",
    "for i in range(10000):\n",
    "    b.play()\n",
    "    \n",
    "print(q0)\n",
    "print(q1)\n"
   ]
  },
  {
   "cell_type": "code",
   "execution_count": null,
   "metadata": {},
   "outputs": [],
   "source": [
    "h = HumanPlayer()\n",
    "b = Board(q1,h)\n",
    "for n in range(10):\n",
    "    b.play(verbose=True)"
   ]
  },
  {
   "cell_type": "code",
   "execution_count": null,
   "metadata": {},
   "outputs": [],
   "source": [
    "h = HumanPlayer()\n",
    "b = Board(q1,h)\n",
    "for n in range(10):\n",
    "    b.play(verbose=True)"
   ]
  },
  {
   "cell_type": "code",
   "execution_count": null,
   "metadata": {},
   "outputs": [],
   "source": []
  }
 ],
 "metadata": {
  "kernelspec": {
   "display_name": "Python 3",
   "language": "python",
   "name": "python3"
  },
  "language_info": {
   "codemirror_mode": {
    "name": "ipython",
    "version": 3
   },
   "file_extension": ".py",
   "mimetype": "text/x-python",
   "name": "python",
   "nbconvert_exporter": "python",
   "pygments_lexer": "ipython3",
   "version": "3.6.5"
  }
 },
 "nbformat": 4,
 "nbformat_minor": 2
}
