{
 "cells": [
  {
   "cell_type": "code",
   "execution_count": 1,
   "metadata": {},
   "outputs": [],
   "source": [
    "from tictactoe import *\n",
    "\n",
    "class QPlayer(BasePlayer):\n",
    "    \n",
    "    EXPLORE = 0.05\n",
    "    ALPHA = 0.10\n",
    "    EPSILON = 0.90\n",
    "    \n",
    "    def __init__(self, explore=EXPLORE, alpha=ALPHA, epsilon=EPSILON):\n",
    "        self.q_table = np.zeros([3**9,9])\n",
    "        self.explore = explore\n",
    "        self.a = alpha\n",
    "        self.e = epsilon\n",
    "        \n",
    "    def move(self, game, state):\n",
    "        self.state = state\n",
    "        self.action = np.argmax(self.q_table[state])\n",
    "        if not game.is_empty(self.action) or np.random.random() < self.explore:\n",
    "            self.action = game.sample()\n",
    "        return self.action\n",
    "\n",
    "    def update(self, game, state, reward):\n",
    "        self.q_table[self.state][self.action] = ((1 - self.a) * self.q_table[self.state][self.action]\n",
    "                                                  + self.a * (reward + self.e * np.amax(self.q_table[state])))\n",
    "\n",
    "    def __str__(self):\n",
    "        if self.wins + self.losses > 0:\n",
    "            return (str(np.sum(self.q_table)) \n",
    "                    + ' win rate = ' + str(self.wins / (self.wins + self.losses))\n",
    "                    + ' loss rate = ' + str(self.losses / (self.wins + self.losses))\n",
    "                    + ' explore = ' + str(self.explore))\n",
    "        else:\n",
    "            return 'inexperienced Q player'"
   ]
  },
  {
   "cell_type": "code",
   "execution_count": 7,
   "metadata": {},
   "outputs": [
    {
     "name": "stdout",
     "output_type": "stream",
     "text": [
      "100 0 96 4\n",
      "200 0 96 4\n",
      "300 0 96 4\n",
      "400 0 96 4\n",
      "500 0 96 4\n",
      "600 0 96 4\n",
      "700 0 96 4\n",
      "800 0 96 4\n",
      "900 0 96 4\n",
      "1000 0 96 4\n"
     ]
    }
   ],
   "source": [
    "p = ProceduralPlayer()\n",
    "q = QPlayer()\n",
    "g = Game(p,q)\n",
    "for m in range(1000):\n",
    "    p.reset_metrics()\n",
    "    q.reset_metrics()\n",
    "    for n in range(10000):\n",
    "        g.play()\n",
    "    print(g.i,r.wins,r.losses,r.ties)\n",
    "    "
   ]
  },
  {
   "cell_type": "code",
   "execution_count": null,
   "metadata": {},
   "outputs": [],
   "source": [
    "p = ProceduralPlayer()\n",
    "q = QPlayer()\n",
    "g = Game(p,q)\n",
    "loss_rate = []\n",
    "for m in range(100):\n",
    "    for n in range(10000):\n",
    "        g.play()\n",
    "    loss_rate.append(q.losses / 10000)\n",
    "    print(g.i,q.losses / 10000,q.explore)\n",
    "    q.reset_metrics()\n"
   ]
  },
  {
   "cell_type": "code",
   "execution_count": null,
   "metadata": {},
   "outputs": [],
   "source": [
    "h = HumanPlayer()\n",
    "b = Game(q,h)\n",
    "while True:\n",
    "    b.play(verbose=True)"
   ]
  },
  {
   "cell_type": "code",
   "execution_count": null,
   "metadata": {},
   "outputs": [],
   "source": []
  }
 ],
 "metadata": {
  "kernelspec": {
   "display_name": "Python 3",
   "language": "python",
   "name": "python3"
  },
  "language_info": {
   "codemirror_mode": {
    "name": "ipython",
    "version": 3
   },
   "file_extension": ".py",
   "mimetype": "text/x-python",
   "name": "python",
   "nbconvert_exporter": "python",
   "pygments_lexer": "ipython3",
   "version": "3.6.4"
  }
 },
 "nbformat": 4,
 "nbformat_minor": 2
}
