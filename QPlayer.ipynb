{
 "cells": [
  {
   "cell_type": "code",
   "execution_count": 1,
   "metadata": {},
   "outputs": [],
   "source": [
    "from tictactoe import *\n",
    "\n",
    "class QPlayer(BasePlayer):\n",
    "    \n",
    "    EXPLORE = 0.05\n",
    "    ALPHA = 0.10\n",
    "    EPSILON = 0.90\n",
    "    \n",
    "    def __init__(self, explore=EXPLORE, alpha=ALPHA, epsilon=EPSILON):\n",
    "        self.q_table = np.zeros([3**9,9])\n",
    "        self.explore = explore\n",
    "        self.a = alpha\n",
    "        self.e = epsilon\n",
    "        \n",
    "    def move(self, game, state):\n",
    "        self.state = state\n",
    "        self.action = np.argmax(self.q_table[self.state])\n",
    "        if not game.is_empty(self.action) or np.random.random() < self.explore:\n",
    "            self.action = game.sample()\n",
    "        return self.action\n",
    "\n",
    "    def update(self, game, state, reward):\n",
    "        self.q_table[self.state][self.action] = ((1 - self.a) * self.q_table[self.state][self.action]\n",
    "                                                  + self.a * (reward + self.e * np.amax(self.q_table[state])))\n",
    "    def __str__(self):\n",
    "        return 'QPlayer: ' + str(np.sum(self.q_table))"
   ]
  },
  {
   "cell_type": "code",
   "execution_count": 2,
   "metadata": {},
   "outputs": [
    {
     "name": "stdout",
     "output_type": "stream",
     "text": [
      "==============================================================\n",
      "1000 612 274 114 1000 I make random moves\n",
      "2000 575 297 128 1000 I make random moves\n",
      "3000 602 263 135 1000 I make random moves\n",
      "4000 593 291 116 1000 I make random moves\n",
      "5000 593 298 109 1000 I make random moves\n",
      "6000 580 285 135 1000 I make random moves\n",
      "7000 581 288 131 1000 I make random moves\n",
      "8000 592 283 125 1000 I make random moves\n",
      "9000 602 290 108 1000 I make random moves\n",
      "10000 589 284 127 1000 I make random moves\n",
      "==============================================================\n",
      "1000 568 290 142 1000 I make random moves\n",
      "2000 574 288 138 1000 I make random moves\n",
      "3000 594 281 125 1000 I make random moves\n",
      "4000 581 284 135 1000 I make random moves\n",
      "5000 591 272 137 1000 I make random moves\n",
      "6000 579 302 119 1000 I make random moves\n",
      "7000 596 295 109 1000 I make random moves\n",
      "8000 604 277 119 1000 I make random moves\n",
      "9000 581 295 124 1000 I make random moves\n",
      "10000 604 275 121 1000 I make random moves\n"
     ]
    }
   ],
   "source": [
    "r0 = RandomPlayer()\n",
    "r1 = RandomPlayer()\n",
    "\n",
    "print('==============================================================')\n",
    "g = Game(r0,r1)\n",
    "for m in range(10):\n",
    "    r0.reset_metrics()\n",
    "    r1.reset_metrics()\n",
    "    for n in range(1000):\n",
    "        g.play()\n",
    "    print(g.i,r0.wins,r0.losses,r0.ties,r0.wins+r0.losses+r0.ties,r0)\n",
    "    \n",
    "print('==============================================================')\n",
    "g = Game(r1,r0)    \n",
    "for m in range(10):\n",
    "    r0.reset_metrics()\n",
    "    r1.reset_metrics()\n",
    "    for n in range(1000):\n",
    "        g.play()\n",
    "    print(g.i,r1.wins,r1.losses,r1.ties,r1.wins+r1.losses+r1.ties,r1)"
   ]
  },
  {
   "cell_type": "code",
   "execution_count": 4,
   "metadata": {},
   "outputs": [
    {
     "name": "stdout",
     "output_type": "stream",
     "text": [
      "1000 280 580 140 1000 Pretty good procedural player\n",
      "2000 292 577 131 1000 Pretty good procedural player\n",
      "3000 285 608 107 1000 Pretty good procedural player\n",
      "4000 286 574 140 1000 Pretty good procedural player\n",
      "5000 305 556 139 1000 Pretty good procedural player\n",
      "6000 280 585 135 1000 Pretty good procedural player\n",
      "7000 300 577 123 1000 Pretty good procedural player\n",
      "8000 293 599 108 1000 Pretty good procedural player\n",
      "9000 290 585 125 1000 Pretty good procedural player\n",
      "10000 304 571 125 1000 Pretty good procedural player\n"
     ]
    }
   ],
   "source": [
    "r0 = RandomPlayer()\n",
    "p0 = ProceduralPlayer()\n",
    "g = Game(r0,p0)\n",
    "for m in range(10):\n",
    "    r0.reset_metrics()\n",
    "    p0.reset_metrics()\n",
    "    for n in range(1000):\n",
    "        g.play()\n",
    "    print(g.i,p0.wins,p0.losses,p0.ties,p0.wins+p0.losses+p0.ties,p0)"
   ]
  },
  {
   "cell_type": "code",
   "execution_count": null,
   "metadata": {},
   "outputs": [],
   "source": [
    "q = QPlayer()\n",
    "r = RandomPlayer()\n",
    "g = Game(r,r)\n",
    "for m in range(10000):\n",
    "    q.reset_metrics()\n",
    "    r.reset_metrics()\n",
    "    for n in range(10000):\n",
    "        g.play()\n",
    "    print(g.i,q.wins,q.losses,q.ties,q.wins+q.losses+q.ties,q)\n",
    "    "
   ]
  },
  {
   "cell_type": "code",
   "execution_count": null,
   "metadata": {},
   "outputs": [],
   "source": []
  }
 ],
 "metadata": {
  "kernelspec": {
   "display_name": "Python 3",
   "language": "python",
   "name": "python3"
  },
  "language_info": {
   "codemirror_mode": {
    "name": "ipython",
    "version": 3
   },
   "file_extension": ".py",
   "mimetype": "text/x-python",
   "name": "python",
   "nbconvert_exporter": "python",
   "pygments_lexer": "ipython3",
   "version": "3.6.5"
  }
 },
 "nbformat": 4,
 "nbformat_minor": 2
}
