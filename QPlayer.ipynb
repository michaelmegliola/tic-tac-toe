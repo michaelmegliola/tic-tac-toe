{
 "cells": [
  {
   "cell_type": "code",
   "execution_count": 1,
   "metadata": {},
   "outputs": [],
   "source": [
    "from tictactoe import *\n",
    "\n",
    "class QPlayer:\n",
    "    \n",
    "    EXPLORE = 0.10\n",
    "    ALPHA = 0.01\n",
    "    EPSILON = 0.90\n",
    "    \n",
    "    def __init__(self, explore=EXPLORE, alpha=ALPHA, epsilon=EPSILON):\n",
    "        self.q_table = np.zeros([3**9,9])\n",
    "        self.explore = explore\n",
    "        self.wins = 0\n",
    "        self.losses = 0\n",
    "        self.a = alpha\n",
    "        self.e = epsilon\n",
    "        \n",
    "    def move(self, board, state):\n",
    "        self.state = state\n",
    "        self.action = np.argmax(self.q_table[state])\n",
    "        if np.random.random() < self.explore:\n",
    "            self.action = board.sample()\n",
    "        return self.action\n",
    "\n",
    "    def update(self, board, state, reward):\n",
    "        self.q_table[self.state][self.action] = ((1 - self.a) * self.q_table[self.state][self.action]\n",
    "                                                  + self.a * (reward + self.e * np.amax(self.q_table[state])))\n",
    "        if reward > 0:\n",
    "            self.explore *= 0.9999\n",
    "            self.wins += 1\n",
    "        if reward < 0:\n",
    "            self.losses += 1\n",
    "\n",
    "    def __str__(self):\n",
    "        return str(np.sum(self.q_table)) + ' wins = ' + str(self.wins) + ' losses = ' + str(self.losses)"
   ]
  },
  {
   "cell_type": "code",
   "execution_count": 2,
   "metadata": {},
   "outputs": [
    {
     "name": "stdout",
     "output_type": "stream",
     "text": [
      "-39.41353767601453 wins = 7331 losses = 1154\n",
      "-83.09839736467265 wins = 359 losses = 8090\n",
      "-83.98853738171914 wins = 7625 losses = 9816\n",
      "-122.4850333783198 wins = 8414 losses = 9010\n"
     ]
    }
   ],
   "source": [
    "q = QPlayer()\n",
    "r = QPlayer()\n",
    "b = Board(q,r)\n",
    "for n in range(10000):\n",
    "    b.play()\n",
    "print(q)\n",
    "print(r)\n",
    "b = Board(r,q)\n",
    "for n in range(10000):\n",
    "    b.play()\n",
    "print(q)\n",
    "print(r)\n"
   ]
  },
  {
   "cell_type": "code",
   "execution_count": null,
   "metadata": {},
   "outputs": [
    {
     "name": "stdout",
     "output_type": "stream",
     "text": [
      "------------------------------------------\n",
      "X        \n",
      "\n",
      "         \n",
      "\n",
      "         \n",
      "\n",
      "\n",
      "------------------------------------------\n",
      "\n",
      "8\n",
      "------------------------------------------\n",
      "X  X     \n",
      "\n",
      "         \n",
      "\n",
      "      O  \n",
      "\n",
      "\n",
      "------------------------------------------\n",
      "\n",
      "2\n",
      "------------------------------------------\n",
      "X  X  O  \n",
      "\n",
      "      X  \n",
      "\n",
      "      O  \n",
      "\n",
      "\n",
      "------------------------------------------\n",
      "\n"
     ]
    }
   ],
   "source": [
    "h = HumanPlayer()\n",
    "b = Board(q,h)\n",
    "while True:\n",
    "    b.play()"
   ]
  },
  {
   "cell_type": "code",
   "execution_count": null,
   "metadata": {},
   "outputs": [],
   "source": []
  }
 ],
 "metadata": {
  "kernelspec": {
   "display_name": "Python 3",
   "language": "python",
   "name": "python3"
  },
  "language_info": {
   "codemirror_mode": {
    "name": "ipython",
    "version": 3
   },
   "file_extension": ".py",
   "mimetype": "text/x-python",
   "name": "python",
   "nbconvert_exporter": "python",
   "pygments_lexer": "ipython3",
   "version": "3.6.4"
  }
 },
 "nbformat": 4,
 "nbformat_minor": 2
}
