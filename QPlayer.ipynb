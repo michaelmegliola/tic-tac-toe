{
 "cells": [
  {
   "cell_type": "code",
   "execution_count": 1,
   "metadata": {},
   "outputs": [],
   "source": [
    "from tictactoe import *\n",
    "\n",
    "class QPlayer(BasePlayer):\n",
    "    \n",
    "    EXPLORE = 0.05\n",
    "    ALPHA = 0.10\n",
    "    EPSILON = 0.90\n",
    "    \n",
    "    def __init__(self, explore=EXPLORE, alpha=ALPHA, epsilon=EPSILON):\n",
    "        super().__init__()\n",
    "        self.q_table = np.zeros([3**9,9])\n",
    "        self.explore = explore\n",
    "        self.a = alpha\n",
    "        self.e = epsilon\n",
    "        \n",
    "    def move(self, game, state):\n",
    "        self.state = state\n",
    "        self.action = np.argmax(self.q_table[self.state])\n",
    "        if not game.is_empty(self.action) or np.random.random() < self.explore:\n",
    "            self.action = game.sample()\n",
    "        return self.action\n",
    "\n",
    "    def update(self, game, state, reward):\n",
    "        self.q_table[self.state][self.action] += reward + np.amax(self.q_table[state])"
   ]
  },
  {
   "cell_type": "code",
   "execution_count": null,
   "metadata": {},
   "outputs": [
    {
     "name": "stdout",
     "output_type": "stream",
     "text": [
      "0 MinimaxPlayer w/l/t=9/0/1 QPlayer w/l/t=0/9/1 -9.0\n",
      "1 MinimaxPlayer w/l/t=9/0/1 QPlayer w/l/t=0/9/1 -18.0\n",
      "2 MinimaxPlayer w/l/t=8/0/2 QPlayer w/l/t=0/8/2 -26.0\n",
      "3 MinimaxPlayer w/l/t=9/0/1 QPlayer w/l/t=0/9/1 -35.0\n",
      "4 MinimaxPlayer w/l/t=10/0/0 QPlayer w/l/t=0/10/0 -45.0\n",
      "5 MinimaxPlayer w/l/t=7/0/3 QPlayer w/l/t=0/7/3 -52.0\n",
      "6 MinimaxPlayer w/l/t=9/0/1 QPlayer w/l/t=0/9/1 -61.0\n",
      "7 MinimaxPlayer w/l/t=9/0/1 QPlayer w/l/t=0/9/1 -70.0\n",
      "8 MinimaxPlayer w/l/t=10/0/0 QPlayer w/l/t=0/10/0 -80.0\n",
      "9 MinimaxPlayer w/l/t=8/0/2 QPlayer w/l/t=0/8/2 -88.0\n",
      "10 MinimaxPlayer w/l/t=9/0/1 QPlayer w/l/t=0/9/1 -97.0\n",
      "11 MinimaxPlayer w/l/t=10/0/0 QPlayer w/l/t=0/10/0 -107.0\n",
      "12 MinimaxPlayer w/l/t=10/0/0 QPlayer w/l/t=0/10/0 -117.0\n",
      "13 MinimaxPlayer w/l/t=10/0/0 QPlayer w/l/t=0/10/0 -127.0\n",
      "14 MinimaxPlayer w/l/t=10/0/0 QPlayer w/l/t=0/10/0 -137.0\n",
      "15 MinimaxPlayer w/l/t=9/0/1 QPlayer w/l/t=0/9/1 -146.0\n",
      "16 MinimaxPlayer w/l/t=9/0/1 QPlayer w/l/t=0/9/1 -155.0\n",
      "17 MinimaxPlayer w/l/t=10/0/0 QPlayer w/l/t=0/10/0 -165.0\n",
      "18 MinimaxPlayer w/l/t=8/0/2 QPlayer w/l/t=0/8/2 -173.0\n",
      "19 MinimaxPlayer w/l/t=10/0/0 QPlayer w/l/t=0/10/0 -183.0\n",
      "20 MinimaxPlayer w/l/t=10/0/0 QPlayer w/l/t=0/10/0 -193.0\n",
      "21 MinimaxPlayer w/l/t=9/0/1 QPlayer w/l/t=0/9/1 -202.0\n",
      "22 MinimaxPlayer w/l/t=10/0/0 QPlayer w/l/t=0/10/0 -212.0\n",
      "23 MinimaxPlayer w/l/t=10/0/0 QPlayer w/l/t=0/10/0 -222.0\n",
      "24 MinimaxPlayer w/l/t=9/0/1 QPlayer w/l/t=0/9/1 -231.0\n",
      "25 MinimaxPlayer w/l/t=10/0/0 QPlayer w/l/t=0/10/0 -241.0\n",
      "26 MinimaxPlayer w/l/t=10/0/0 QPlayer w/l/t=0/10/0 -251.0\n",
      "27 MinimaxPlayer w/l/t=10/0/0 QPlayer w/l/t=0/10/0 -261.0\n",
      "28 MinimaxPlayer w/l/t=10/0/0 QPlayer w/l/t=0/10/0 -271.0\n",
      "29 MinimaxPlayer w/l/t=10/0/0 QPlayer w/l/t=0/10/0 -281.0\n",
      "30 MinimaxPlayer w/l/t=9/0/1 QPlayer w/l/t=0/9/1 -290.0\n",
      "31 MinimaxPlayer w/l/t=9/0/1 QPlayer w/l/t=0/9/1 -299.0\n",
      "32 MinimaxPlayer w/l/t=9/0/1 QPlayer w/l/t=0/9/1 -308.0\n",
      "33 MinimaxPlayer w/l/t=9/0/1 QPlayer w/l/t=0/9/1 -317.0\n",
      "34 MinimaxPlayer w/l/t=10/0/0 QPlayer w/l/t=0/10/0 -327.0\n",
      "35 MinimaxPlayer w/l/t=8/0/2 QPlayer w/l/t=0/8/2 -335.0\n",
      "36 MinimaxPlayer w/l/t=10/0/0 QPlayer w/l/t=0/10/0 -345.0\n",
      "37 MinimaxPlayer w/l/t=8/0/2 QPlayer w/l/t=0/8/2 -353.0\n",
      "38 MinimaxPlayer w/l/t=8/0/2 QPlayer w/l/t=0/8/2 -361.0\n",
      "39 MinimaxPlayer w/l/t=10/0/0 QPlayer w/l/t=0/10/0 -371.0\n",
      "40 MinimaxPlayer w/l/t=10/0/0 QPlayer w/l/t=0/10/0 -381.0\n",
      "41 MinimaxPlayer w/l/t=10/0/0 QPlayer w/l/t=0/10/0 -391.0\n",
      "42 MinimaxPlayer w/l/t=10/0/0 QPlayer w/l/t=0/10/0 -401.0\n",
      "43 MinimaxPlayer w/l/t=8/0/2 QPlayer w/l/t=0/8/2 -409.0\n",
      "44 MinimaxPlayer w/l/t=10/0/0 QPlayer w/l/t=0/10/0 -419.0\n",
      "45 MinimaxPlayer w/l/t=10/0/0 QPlayer w/l/t=0/10/0 -429.0\n",
      "46 MinimaxPlayer w/l/t=10/0/0 QPlayer w/l/t=0/10/0 -439.0\n",
      "47 MinimaxPlayer w/l/t=10/0/0 QPlayer w/l/t=0/10/0 -449.0\n",
      "48 MinimaxPlayer w/l/t=10/0/0 QPlayer w/l/t=0/10/0 -459.0\n",
      "49 MinimaxPlayer w/l/t=9/0/1 QPlayer w/l/t=0/9/1 -468.0\n",
      "50 MinimaxPlayer w/l/t=10/0/0 QPlayer w/l/t=0/10/0 -478.0\n",
      "51 MinimaxPlayer w/l/t=10/0/0 QPlayer w/l/t=0/10/0 -488.0\n",
      "52 MinimaxPlayer w/l/t=10/0/0 QPlayer w/l/t=0/10/0 -498.0\n",
      "53 MinimaxPlayer w/l/t=7/0/3 QPlayer w/l/t=0/7/3 -505.0\n",
      "54 MinimaxPlayer w/l/t=9/0/1 QPlayer w/l/t=0/9/1 -514.0\n",
      "55 MinimaxPlayer w/l/t=8/0/2 QPlayer w/l/t=0/8/2 -522.0\n",
      "56 MinimaxPlayer w/l/t=9/0/1 QPlayer w/l/t=0/9/1 -531.0\n",
      "57 MinimaxPlayer w/l/t=10/0/0 QPlayer w/l/t=0/10/0 -541.0\n"
     ]
    }
   ],
   "source": [
    "q = QPlayer()\n",
    "m = MinimaxPlayer()\n",
    "g = Game(q,m)\n",
    "for i in range(1000):\n",
    "    m.reset_metrics()\n",
    "    q.reset_metrics()\n",
    "    for n in range(10):\n",
    "        g.play()\n",
    "    print(i,m,q,np.sum(q.q_table))\n",
    "    "
   ]
  },
  {
   "cell_type": "code",
   "execution_count": null,
   "metadata": {},
   "outputs": [],
   "source": []
  }
 ],
 "metadata": {
  "kernelspec": {
   "display_name": "Python 3",
   "language": "python",
   "name": "python3"
  },
  "language_info": {
   "codemirror_mode": {
    "name": "ipython",
    "version": 3
   },
   "file_extension": ".py",
   "mimetype": "text/x-python",
   "name": "python",
   "nbconvert_exporter": "python",
   "pygments_lexer": "ipython3",
   "version": "3.6.5"
  }
 },
 "nbformat": 4,
 "nbformat_minor": 2
}
