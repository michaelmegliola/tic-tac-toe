{
 "cells": [
  {
   "cell_type": "code",
   "execution_count": 14,
   "metadata": {},
   "outputs": [],
   "source": [
    "from tictactoe import *\n",
    "\n",
    "class QPlayer(BasePlayer):\n",
    "    \n",
    "    EXPLORE = 0.05\n",
    "    ALPHA = 0.10\n",
    "    EPSILON = 0.90\n",
    "    \n",
    "    def __init__(self, explore=EXPLORE, alpha=ALPHA, epsilon=EPSILON):\n",
    "        super().__init__(display=False)\n",
    "        self.q_table = np.zeros([3**9,9])\n",
    "        self.explore = explore\n",
    "        self.a = alpha\n",
    "        self.e = epsilon\n",
    "        \n",
    "    def move(self, game, state):\n",
    "        self.state = state\n",
    "        self.action = np.argmax(self.q_table[self.state])\n",
    "        if not game.is_empty(self.action) or np.random.random() < self.explore:\n",
    "            self.action = game.sample()\n",
    "        return self.action\n",
    "\n",
    "    def update(self, game, state, reward):\n",
    "        self.q_table[self.state][self.action] = ((1 - self.a) * self.q_table[self.state][self.action]\n",
    "                                                  + self.a * (reward + self.e * np.amax(self.q_table[state])))"
   ]
  },
  {
   "cell_type": "code",
   "execution_count": 15,
   "metadata": {},
   "outputs": [
    {
     "name": "stdout",
     "output_type": "stream",
     "text": [
      "0 RandomPlayer w/l/t=516/382/102 QPlayer w/l/t=382/516/102\n",
      "1 RandomPlayer w/l/t=436/490/74 QPlayer w/l/t=490/436/74\n",
      "2 RandomPlayer w/l/t=376/531/93 QPlayer w/l/t=531/376/93\n",
      "3 RandomPlayer w/l/t=401/505/94 QPlayer w/l/t=505/401/94\n",
      "4 RandomPlayer w/l/t=412/510/78 QPlayer w/l/t=510/412/78\n",
      "5 RandomPlayer w/l/t=361/552/87 QPlayer w/l/t=552/361/87\n",
      "6 RandomPlayer w/l/t=398/516/86 QPlayer w/l/t=516/398/86\n",
      "7 RandomPlayer w/l/t=368/542/90 QPlayer w/l/t=542/368/90\n",
      "8 RandomPlayer w/l/t=386/522/92 QPlayer w/l/t=522/386/92\n",
      "9 RandomPlayer w/l/t=399/519/82 QPlayer w/l/t=519/399/82\n"
     ]
    }
   ],
   "source": [
    "r = RandomPlayer()\n",
    "q = QPlayer()\n",
    "g = Game(r,q)\n",
    "for m in range(10):\n",
    "    r.reset_metrics()\n",
    "    q.reset_metrics()\n",
    "    for n in range(1000):\n",
    "        g.play()\n",
    "    print(m,r,q)\n",
    "    "
   ]
  },
  {
   "cell_type": "code",
   "execution_count": 18,
   "metadata": {},
   "outputs": [
    {
     "name": "stdout",
     "output_type": "stream",
     "text": [
      "0 PrettyGoodPlayer w/l/t=8867/302/831 QPlayer w/l/t=302/8867/831\n",
      "1 PrettyGoodPlayer w/l/t=8802/312/886 QPlayer w/l/t=312/8802/886\n",
      "2 PrettyGoodPlayer w/l/t=8849/290/861 QPlayer w/l/t=290/8849/861\n",
      "3 PrettyGoodPlayer w/l/t=8819/318/863 QPlayer w/l/t=318/8819/863\n",
      "4 PrettyGoodPlayer w/l/t=8863/282/855 QPlayer w/l/t=282/8863/855\n",
      "5 PrettyGoodPlayer w/l/t=8817/308/875 QPlayer w/l/t=308/8817/875\n",
      "6 PrettyGoodPlayer w/l/t=8827/306/867 QPlayer w/l/t=306/8827/867\n",
      "7 PrettyGoodPlayer w/l/t=8867/315/818 QPlayer w/l/t=315/8867/818\n",
      "8 PrettyGoodPlayer w/l/t=8809/311/880 QPlayer w/l/t=311/8809/880\n",
      "9 PrettyGoodPlayer w/l/t=8806/298/896 QPlayer w/l/t=298/8806/896\n"
     ]
    }
   ],
   "source": [
    "p = PrettyGoodPlayer()\n",
    "g = Game(p,q)\n",
    "for m in range(10):\n",
    "    p.reset_metrics()\n",
    "    q.reset_metrics()\n",
    "    for n in range(10000):\n",
    "        g.play()\n",
    "    print(m,p,q)"
   ]
  },
  {
   "cell_type": "code",
   "execution_count": 19,
   "metadata": {},
   "outputs": [
    {
     "name": "stdout",
     "output_type": "stream",
     "text": [
      "0 RandomPlayer w/l/t=377/540/83 QPlayer w/l/t=540/377/83\n",
      "1 RandomPlayer w/l/t=359/558/83 QPlayer w/l/t=558/359/83\n",
      "2 RandomPlayer w/l/t=370/548/82 QPlayer w/l/t=548/370/82\n",
      "3 RandomPlayer w/l/t=375/544/81 QPlayer w/l/t=544/375/81\n",
      "4 RandomPlayer w/l/t=394/523/83 QPlayer w/l/t=523/394/83\n",
      "5 RandomPlayer w/l/t=360/548/92 QPlayer w/l/t=548/360/92\n",
      "6 RandomPlayer w/l/t=362/561/77 QPlayer w/l/t=561/362/77\n",
      "7 RandomPlayer w/l/t=363/549/88 QPlayer w/l/t=549/363/88\n",
      "8 RandomPlayer w/l/t=386/516/98 QPlayer w/l/t=516/386/98\n",
      "9 RandomPlayer w/l/t=371/536/93 QPlayer w/l/t=536/371/93\n"
     ]
    }
   ],
   "source": [
    "r = RandomPlayer()\n",
    "g = Game(r,q)\n",
    "for m in range(10):\n",
    "    r.reset_metrics()\n",
    "    q.reset_metrics()\n",
    "    for n in range(1000):\n",
    "        g.play()\n",
    "    print(m,r,q)"
   ]
  },
  {
   "cell_type": "code",
   "execution_count": null,
   "metadata": {},
   "outputs": [],
   "source": []
  }
 ],
 "metadata": {
  "kernelspec": {
   "display_name": "Python 3",
   "language": "python",
   "name": "python3"
  },
  "language_info": {
   "codemirror_mode": {
    "name": "ipython",
    "version": 3
   },
   "file_extension": ".py",
   "mimetype": "text/x-python",
   "name": "python",
   "nbconvert_exporter": "python",
   "pygments_lexer": "ipython3",
   "version": "3.6.5"
  }
 },
 "nbformat": 4,
 "nbformat_minor": 2
}
