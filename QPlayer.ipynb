{
 "cells": [
  {
   "cell_type": "code",
   "execution_count": 1,
   "metadata": {},
   "outputs": [],
   "source": [
    "from tictactoe import *\n",
    "\n",
    "class QPlayer:\n",
    "    \n",
    "    EXPLORE = 0.10\n",
    "    ALPHA = 0.01\n",
    "    EPSILON = 0.90\n",
    "    \n",
    "    def __init__(self, explore=EXPLORE, alpha=ALPHA, epsilon=EPSILON):\n",
    "        self.q_table = np.zeros([3**9,9])\n",
    "        self.explore = explore\n",
    "        self.wins = 0\n",
    "        self.losses = 0\n",
    "        self.a = alpha\n",
    "        self.e = epsilon\n",
    "        \n",
    "    def move(self, game, state):\n",
    "        self.state = state\n",
    "        self.action = np.argmax(self.q_table[state])\n",
    "        if np.random.random() < self.explore:\n",
    "            self.action = game.sample()\n",
    "        return self.action\n",
    "\n",
    "    def update(self, game, state, reward):\n",
    "        self.q_table[self.state][self.action] = ((1 - self.a) * self.q_table[self.state][self.action]\n",
    "                                                  + self.a * (reward + self.e * np.amax(self.q_table[state])))\n",
    "        if reward > 0:\n",
    "            self.explore *= 0.9999\n",
    "            self.wins += 1\n",
    "        if reward < 0:\n",
    "            self.losses += 1\n",
    "\n",
    "    def __str__(self):\n",
    "        return str(np.sum(self.q_table)) + ' wins = ' + str(self.wins) + ' losses = ' + str(self.losses)"
   ]
  },
  {
   "cell_type": "code",
   "execution_count": 2,
   "metadata": {},
   "outputs": [
    {
     "name": "stdout",
     "output_type": "stream",
     "text": [
      "-17.362930095037342 wins = 459 losses = 224\n",
      "-25.837782125482416 wins = 7 losses = 690\n",
      "-37.644514950158666 wins = 462 losses = 1013\n",
      "-41.077382158879935 wins = 595 losses = 899\n"
     ]
    }
   ],
   "source": [
    "q = QPlayer()\n",
    "r = QPlayer()\n",
    "b = Game(q,r)\n",
    "for n in range(1000):\n",
    "    b.play()\n",
    "print(q)\n",
    "print(r)\n",
    "b = Game(r,q)\n",
    "for n in range(1000):\n",
    "    b.play()\n",
    "print(q)\n",
    "print(r)\n"
   ]
  },
  {
   "cell_type": "code",
   "execution_count": null,
   "metadata": {},
   "outputs": [
    {
     "name": "stdout",
     "output_type": "stream",
     "text": [
      "------------------------------------------\n",
      "X  -  -  \n",
      "\n",
      "-  -  -  \n",
      "\n",
      "-  -  -  \n",
      "\n",
      "x state = 9842, o state = 9840\n",
      "8\n",
      "------------------------------------------\n",
      "X  X  -  \n",
      "\n",
      "-  -  -  \n",
      "\n",
      "-  -  O  \n",
      "\n",
      "x state = 3284, o state = 16398\n",
      "2\n",
      "------------------------------------------\n",
      "X  X  O  \n",
      "\n",
      "X  -  -  \n",
      "\n",
      "-  -  O  \n",
      "\n",
      "x state = 3302, o state = 16380\n",
      "6\n",
      "------------------------------------------\n",
      "X  -  -  \n",
      "\n",
      "-  -  -  \n",
      "\n",
      "-  -  -  \n",
      "\n",
      "x state = 9842, o state = 9840\n"
     ]
    }
   ],
   "source": [
    "h = HumanPlayer()\n",
    "b = Game(q,h)\n",
    "while True:\n",
    "    b.play()"
   ]
  },
  {
   "cell_type": "code",
   "execution_count": null,
   "metadata": {},
   "outputs": [],
   "source": []
  }
 ],
 "metadata": {
  "kernelspec": {
   "display_name": "Python 3",
   "language": "python",
   "name": "python3"
  },
  "language_info": {
   "codemirror_mode": {
    "name": "ipython",
    "version": 3
   },
   "file_extension": ".py",
   "mimetype": "text/x-python",
   "name": "python",
   "nbconvert_exporter": "python",
   "pygments_lexer": "ipython3",
   "version": "3.6.4"
  }
 },
 "nbformat": 4,
 "nbformat_minor": 2
}
