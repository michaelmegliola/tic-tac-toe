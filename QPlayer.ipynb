{
 "cells": [
  {
   "cell_type": "code",
   "execution_count": 6,
   "metadata": {},
   "outputs": [],
   "source": [
    "from tictactoe import *\n",
    "\n",
    "class QPlayer(BasePlayer):\n",
    "    \n",
    "    EXPLORE = 0.05\n",
    "    ALPHA = 0.10\n",
    "    EPSILON = 0.90\n",
    "    \n",
    "    def __init__(self, explore=EXPLORE, alpha=ALPHA, epsilon=EPSILON):\n",
    "        super().__init__()\n",
    "        self.q_table = np.zeros([3**9,9])\n",
    "        self.explore = explore\n",
    "        self.a = alpha\n",
    "        self.e = epsilon\n",
    "        \n",
    "    def move(self, game, state):\n",
    "        self.state = state\n",
    "        self.action = np.argmax(self.q_table[self.state])\n",
    "        if not game.is_empty(self.action) or np.random.random() < self.explore:\n",
    "            self.action = game.sample()\n",
    "        return self.action\n",
    "\n",
    "    def update(self, game, state, reward):\n",
    "        self.q_table[self.state][self.action] = ((1 - self.a) * self.q_table[self.state][self.action]\n",
    "                                                  + self.a * (reward + self.e * np.amax(self.q_table[state])))"
   ]
  },
  {
   "cell_type": "code",
   "execution_count": 7,
   "metadata": {},
   "outputs": [
    {
     "name": "stdout",
     "output_type": "stream",
     "text": [
      "0 PrettyGoodPlayer w/l/t=92/1/7 QPlayer w/l/t=1/92/7\n",
      "1 PrettyGoodPlayer w/l/t=91/2/7 QPlayer w/l/t=2/91/7\n",
      "2 PrettyGoodPlayer w/l/t=90/1/9 QPlayer w/l/t=1/90/9\n",
      "3 PrettyGoodPlayer w/l/t=88/2/10 QPlayer w/l/t=2/88/10\n",
      "4 PrettyGoodPlayer w/l/t=88/2/10 QPlayer w/l/t=2/88/10\n",
      "5 PrettyGoodPlayer w/l/t=87/0/13 QPlayer w/l/t=0/87/13\n",
      "6 PrettyGoodPlayer w/l/t=87/2/11 QPlayer w/l/t=2/87/11\n",
      "7 PrettyGoodPlayer w/l/t=84/1/15 QPlayer w/l/t=1/84/15\n",
      "8 PrettyGoodPlayer w/l/t=89/1/10 QPlayer w/l/t=1/89/10\n",
      "9 PrettyGoodPlayer w/l/t=87/1/12 QPlayer w/l/t=1/87/12\n"
     ]
    }
   ],
   "source": [
    "p = PrettyGoodPlayer()\n",
    "g = Game(p,q)\n",
    "for m in range(10):\n",
    "    p.reset_metrics()\n",
    "    q.reset_metrics()\n",
    "    for n in range(100):\n",
    "        g.play()\n",
    "    print(m,p,q)"
   ]
  },
  {
   "cell_type": "code",
   "execution_count": null,
   "metadata": {},
   "outputs": [],
   "source": [
    "m = MinimaxPlayer()\n",
    "q = QPlayer()\n",
    "g = Game(q,m,)\n",
    "for i in range(10):\n",
    "    m.reset_metrics()\n",
    "    q.reset_metrics()\n",
    "    for n in range(10):\n",
    "        g.play()\n",
    "    print(i,m,q,np.sum(q.q_table))\n",
    "    "
   ]
  },
  {
   "cell_type": "code",
   "execution_count": null,
   "metadata": {},
   "outputs": [],
   "source": [
    "p = PrettyGoodPlayer()\n",
    "g = Game(p,q)\n",
    "for m in range(10):\n",
    "    p.reset_metrics()\n",
    "    q.reset_metrics()\n",
    "    for n in range(100):\n",
    "        g.play()\n",
    "    print(m,p,q)"
   ]
  }
 ],
 "metadata": {
  "kernelspec": {
   "display_name": "Python 3",
   "language": "python",
   "name": "python3"
  },
  "language_info": {
   "codemirror_mode": {
    "name": "ipython",
    "version": 3
   },
   "file_extension": ".py",
   "mimetype": "text/x-python",
   "name": "python",
   "nbconvert_exporter": "python",
   "pygments_lexer": "ipython3",
   "version": "3.6.5"
  }
 },
 "nbformat": 4,
 "nbformat_minor": 2
}
