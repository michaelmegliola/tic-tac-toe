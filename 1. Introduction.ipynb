{
 "cells": [
  {
   "cell_type": "code",
   "execution_count": 1,
   "metadata": {},
   "outputs": [
    {
     "name": "stdout",
     "output_type": "stream",
     "text": [
      "------------------------------------------\n",
      "-  -  -  \n",
      "\n",
      "-  -  -  \n",
      "\n",
      "-  -  -  \n",
      "\n",
      "x state = 9841, o state = 9841\n"
     ]
    }
   ],
   "source": [
    "from tictactoe import *\n",
    "\n",
    "b = Game()\n",
    "print(b)"
   ]
  },
  {
   "cell_type": "code",
   "execution_count": 2,
   "metadata": {},
   "outputs": [
    {
     "name": "stdout",
     "output_type": "stream",
     "text": [
      "I do nothing\n",
      "I do nothing\n"
     ]
    }
   ],
   "source": [
    "print(b.x_player)\n",
    "print(b.o_player)"
   ]
  },
  {
   "cell_type": "code",
   "execution_count": 3,
   "metadata": {},
   "outputs": [
    {
     "data": {
      "text/plain": [
       "False"
      ]
     },
     "execution_count": 3,
     "metadata": {},
     "output_type": "execute_result"
    }
   ],
   "source": [
    "b.move(2,b.x_player)"
   ]
  },
  {
   "cell_type": "code",
   "execution_count": 4,
   "metadata": {},
   "outputs": [
    {
     "name": "stdout",
     "output_type": "stream",
     "text": [
      "------------------------------------------\n",
      "-  -  X  \n",
      "\n",
      "-  -  -  \n",
      "\n",
      "-  -  -  \n",
      "\n",
      "x state = 9850, o state = 9832\n"
     ]
    }
   ],
   "source": [
    "print(b)"
   ]
  },
  {
   "cell_type": "code",
   "execution_count": 5,
   "metadata": {},
   "outputs": [
    {
     "data": {
      "text/plain": [
       "9841"
      ]
     },
     "execution_count": 5,
     "metadata": {},
     "output_type": "execute_result"
    }
   ],
   "source": [
    "1 * 3**8 + 1 * 3**7 + 1 * 3**6 + 1 * 3**5 + 1 * 3**4 + 1 * 3**3 + 1 * 3**2 + 1 * 3**1 + 1 * 3**0"
   ]
  },
  {
   "cell_type": "code",
   "execution_count": 6,
   "metadata": {},
   "outputs": [
    {
     "data": {
      "text/plain": [
       "9850"
      ]
     },
     "execution_count": 6,
     "metadata": {},
     "output_type": "execute_result"
    }
   ],
   "source": [
    "1 * 3**8 + 1 * 3**7 + 1 * 3**6 + 1 * 3**5 + 1 * 3**4 + 1 * 3**3 + ( 2 * 3**2 ) + 1 * 3**1 + 1 * 3**0"
   ]
  },
  {
   "cell_type": "code",
   "execution_count": 7,
   "metadata": {},
   "outputs": [
    {
     "data": {
      "text/plain": [
       "9832"
      ]
     },
     "execution_count": 7,
     "metadata": {},
     "output_type": "execute_result"
    }
   ],
   "source": [
    "1 * 3**8 + 1 * 3**7 + 1 * 3**6 + 1 * 3**5 + 1 * 3**4 + 1 * 3**3 + ( 0 * 3**2 ) + 1 * 3**1 + 1 * 3**0"
   ]
  },
  {
   "cell_type": "code",
   "execution_count": 8,
   "metadata": {},
   "outputs": [
    {
     "name": "stdout",
     "output_type": "stream",
     "text": [
      "------------------------------------------\n",
      "X  X  X  \n",
      "\n",
      "X  X  X  \n",
      "\n",
      "X  X  X  \n",
      "\n",
      "x state = 19682, o state = 0\n"
     ]
    }
   ],
   "source": [
    "b.reset()\n",
    "for n in range(9):\n",
    "    b.move(n,b.x_player)\n",
    "print(b)"
   ]
  },
  {
   "cell_type": "code",
   "execution_count": 9,
   "metadata": {},
   "outputs": [
    {
     "name": "stdout",
     "output_type": "stream",
     "text": [
      "------------------------------------------\n",
      "O  O  O  \n",
      "\n",
      "O  O  O  \n",
      "\n",
      "O  O  O  \n",
      "\n",
      "x state = 0, o state = 19682\n"
     ]
    }
   ],
   "source": [
    "b.reset()\n",
    "for n in range(9):\n",
    "    b.move(n,b.o_player)\n",
    "print(b)"
   ]
  },
  {
   "cell_type": "code",
   "execution_count": null,
   "metadata": {},
   "outputs": [],
   "source": []
  }
 ],
 "metadata": {
  "kernelspec": {
   "display_name": "Python 3",
   "language": "python",
   "name": "python3"
  },
  "language_info": {
   "codemirror_mode": {
    "name": "ipython",
    "version": 3
   },
   "file_extension": ".py",
   "mimetype": "text/x-python",
   "name": "python",
   "nbconvert_exporter": "python",
   "pygments_lexer": "ipython3",
   "version": "3.6.4"
  }
 },
 "nbformat": 4,
 "nbformat_minor": 2
}
