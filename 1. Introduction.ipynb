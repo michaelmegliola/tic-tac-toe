{
 "cells": [
  {
   "cell_type": "code",
   "execution_count": 1,
   "metadata": {},
   "outputs": [
    {
     "name": "stdout",
     "output_type": "stream",
     "text": [
      "------------------------------------------\n",
      "-  -  -  \n",
      "\n",
      "-  -  -  \n",
      "\n",
      "-  -  -  \n",
      "\n",
      "x state = 9841, o state = 9841\n"
     ]
    }
   ],
   "source": [
    "from tictactoe import *\n",
    "\n",
    "g = Game()\n",
    "print(g)"
   ]
  },
  {
   "cell_type": "code",
   "execution_count": 2,
   "metadata": {},
   "outputs": [
    {
     "name": "stdout",
     "output_type": "stream",
     "text": [
      "I do nothing\n",
      "I do nothing\n"
     ]
    }
   ],
   "source": [
    "print(g.x_player)\n",
    "print(g.o_player)"
   ]
  },
  {
   "cell_type": "code",
   "execution_count": 3,
   "metadata": {},
   "outputs": [
    {
     "data": {
      "text/plain": [
       "False"
      ]
     },
     "execution_count": 3,
     "metadata": {},
     "output_type": "execute_result"
    }
   ],
   "source": [
    "g.move(2,g.x_player)"
   ]
  },
  {
   "cell_type": "code",
   "execution_count": 4,
   "metadata": {},
   "outputs": [
    {
     "name": "stdout",
     "output_type": "stream",
     "text": [
      "------------------------------------------\n",
      "-  -  X  \n",
      "\n",
      "-  -  -  \n",
      "\n",
      "-  -  -  \n",
      "\n",
      "x state = 9850, o state = 9832\n"
     ]
    }
   ],
   "source": [
    "print(g)"
   ]
  },
  {
   "cell_type": "code",
   "execution_count": 5,
   "metadata": {},
   "outputs": [
    {
     "data": {
      "text/plain": [
       "9841"
      ]
     },
     "execution_count": 5,
     "metadata": {},
     "output_type": "execute_result"
    }
   ],
   "source": [
    "1 * 3**8 + 1 * 3**7 + 1 * 3**6 + 1 * 3**5 + 1 * 3**4 + 1 * 3**3 + 1 * 3**2 + 1 * 3**1 + 1 * 3**0"
   ]
  },
  {
   "cell_type": "code",
   "execution_count": 6,
   "metadata": {},
   "outputs": [
    {
     "data": {
      "text/plain": [
       "9850"
      ]
     },
     "execution_count": 6,
     "metadata": {},
     "output_type": "execute_result"
    }
   ],
   "source": [
    "1 * 3**8 + 1 * 3**7 + 1 * 3**6 + 1 * 3**5 + 1 * 3**4 + 1 * 3**3 + ( 2 * 3**2 ) + 1 * 3**1 + 1 * 3**0"
   ]
  },
  {
   "cell_type": "code",
   "execution_count": 7,
   "metadata": {},
   "outputs": [
    {
     "data": {
      "text/plain": [
       "9832"
      ]
     },
     "execution_count": 7,
     "metadata": {},
     "output_type": "execute_result"
    }
   ],
   "source": [
    "1 * 3**8 + 1 * 3**7 + 1 * 3**6 + 1 * 3**5 + 1 * 3**4 + 1 * 3**3 + ( 0 * 3**2 ) + 1 * 3**1 + 1 * 3**0"
   ]
  },
  {
   "cell_type": "code",
   "execution_count": 8,
   "metadata": {},
   "outputs": [
    {
     "name": "stdout",
     "output_type": "stream",
     "text": [
      "------------------------------------------\n",
      "X  X  X  \n",
      "\n",
      "X  X  X  \n",
      "\n",
      "X  X  X  \n",
      "\n",
      "x state = 19682, o state = 0\n"
     ]
    }
   ],
   "source": [
    "g.reset()\n",
    "for n in range(9):\n",
    "    g.move(n,g.x_player)\n",
    "print(g)"
   ]
  },
  {
   "cell_type": "code",
   "execution_count": 11,
   "metadata": {},
   "outputs": [
    {
     "name": "stdout",
     "output_type": "stream",
     "text": [
      "------------------------------------------\n",
      "O  O  O  \n",
      "\n",
      "O  O  O  \n",
      "\n",
      "O  O  O  \n",
      "\n",
      "x state = 0, o state = 19682\n"
     ]
    }
   ],
   "source": [
    "g.reset()\n",
    "for n in range(9):\n",
    "    g.move(n,g.o_player)\n",
    "print(g)"
   ]
  },
  {
   "cell_type": "code",
   "execution_count": 13,
   "metadata": {},
   "outputs": [
    {
     "name": "stdout",
     "output_type": "stream",
     "text": [
      "------------------------------------------\n",
      "X  -  -  \n",
      "\n",
      "-  X  -  \n",
      "\n",
      "-  -  X  \n",
      "\n",
      "x state = 16484, o state = 3198\n",
      "(3.0, 1.0)\n"
     ]
    }
   ],
   "source": [
    "g.reset()\n",
    "g.move(0,g.x_player)\n",
    "g.move(4,g.x_player)\n",
    "g.move(8,g.x_player)\n",
    "print(g)\n",
    "print(g.max_min())"
   ]
  },
  {
   "cell_type": "code",
   "execution_count": 14,
   "metadata": {},
   "outputs": [
    {
     "name": "stdout",
     "output_type": "stream",
     "text": [
      "------------------------------------------\n",
      "-  -  X  \n",
      "\n",
      "-  X  -  \n",
      "\n",
      "X  -  -  \n",
      "\n",
      "x state = 10660, o state = 9022\n",
      "(3.0, 1.0)\n"
     ]
    }
   ],
   "source": [
    "g.reset()\n",
    "g.move(2,g.x_player)\n",
    "g.move(4,g.x_player)\n",
    "g.move(6,g.x_player)\n",
    "print(g)\n",
    "print(g.max_min())"
   ]
  },
  {
   "cell_type": "code",
   "execution_count": null,
   "metadata": {},
   "outputs": [],
   "source": []
  }
 ],
 "metadata": {
  "kernelspec": {
   "display_name": "Python 3",
   "language": "python",
   "name": "python3"
  },
  "language_info": {
   "codemirror_mode": {
    "name": "ipython",
    "version": 3
   },
   "file_extension": ".py",
   "mimetype": "text/x-python",
   "name": "python",
   "nbconvert_exporter": "python",
   "pygments_lexer": "ipython3",
   "version": "3.6.5"
  }
 },
 "nbformat": 4,
 "nbformat_minor": 2
}
