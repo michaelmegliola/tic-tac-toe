{
 "cells": [
  {
   "cell_type": "markdown",
   "metadata": {},
   "source": [
    "The board is a 3x3 array; x's are represented as 1's, and o's are -1's; a blank square is a zero."
   ]
  },
  {
   "cell_type": "code",
   "execution_count": 4,
   "metadata": {},
   "outputs": [
    {
     "data": {
      "text/plain": [
       "array([[0., 0., 0.],\n",
       "       [0., 0., 0.],\n",
       "       [0., 0., 0.]])"
      ]
     },
     "execution_count": 4,
     "metadata": {},
     "output_type": "execute_result"
    }
   ],
   "source": [
    "import numpy as np\n",
    "\n",
    "board = np.zeros([3,3])\n",
    "\n",
    "board"
   ]
  },
  {
   "cell_type": "markdown",
   "metadata": {},
   "source": [
    "To identify winning conditions, takes sums along various axes and look for totals of +3 or -3:"
   ]
  },
  {
   "cell_type": "code",
   "execution_count": 70,
   "metadata": {},
   "outputs": [
    {
     "data": {
      "text/plain": [
       "array([[1, 2, 3],\n",
       "       [5, 5, 5],\n",
       "       [3, 2, 1]])"
      ]
     },
     "execution_count": 70,
     "metadata": {},
     "output_type": "execute_result"
    }
   ],
   "source": [
    "# make a test array to figure out how np.sum() works...\n",
    "\n",
    "test_board = np.array([[1,2,3],[5,5,5],[3,2,1]])\n",
    "test_board"
   ]
  },
  {
   "cell_type": "code",
   "execution_count": 71,
   "metadata": {},
   "outputs": [
    {
     "data": {
      "text/plain": [
       "array([9, 9, 9])"
      ]
     },
     "execution_count": 71,
     "metadata": {},
     "output_type": "execute_result"
    }
   ],
   "source": [
    "# this call returns the sum of each column\n",
    "np.sum(test_board, 0)"
   ]
  },
  {
   "cell_type": "code",
   "execution_count": 72,
   "metadata": {},
   "outputs": [
    {
     "data": {
      "text/plain": [
       "array([ 6, 15,  6])"
      ]
     },
     "execution_count": 72,
     "metadata": {},
     "output_type": "execute_result"
    }
   ],
   "source": [
    "# this call returns the sum of each row\n",
    "np.sum(test_board, 1)"
   ]
  },
  {
   "cell_type": "code",
   "execution_count": 73,
   "metadata": {},
   "outputs": [
    {
     "data": {
      "text/plain": [
       "7"
      ]
     },
     "execution_count": 73,
     "metadata": {},
     "output_type": "execute_result"
    }
   ],
   "source": [
    "# this call sums the first diagonal\n",
    "test_board.trace(0)"
   ]
  },
  {
   "cell_type": "code",
   "execution_count": 74,
   "metadata": {},
   "outputs": [
    {
     "data": {
      "text/plain": [
       "11"
      ]
     },
     "execution_count": 74,
     "metadata": {},
     "output_type": "execute_result"
    }
   ],
   "source": [
    "# and for the second diagonal, flip the matrix\n",
    "np.flip(test_board,0).trace(0)"
   ]
  },
  {
   "cell_type": "markdown",
   "metadata": {},
   "source": [
    "...to find out who wins:"
   ]
  },
  {
   "cell_type": "code",
   "execution_count": 76,
   "metadata": {},
   "outputs": [],
   "source": [
    "# returns the max and min of sum of each axis + each diagonal\n",
    "def max_min(board):\n",
    "    col_sum = np.sum(board,0)\n",
    "    row_sum = np.sum(board,1)\n",
    "    maxs = np.maximum(col_sum,row_sum)\n",
    "    mins = np.minimum(col_sum,row_sum)\n",
    "    diag0 = board.trace(0)\n",
    "    diag1 = np.flip(board,0).trace(0)\n",
    "    return max(max(maxs), diag0, diag1), min(min(mins), diag0, diag1)\n",
    "\n",
    "# returns winner (if one player had won), else None\n",
    "def winner(board):\n",
    "    x,o = max_min(board)\n",
    "    if x == 3:\n",
    "        return 'x'\n",
    "    elif o == -3:\n",
    "        return 'o'\n",
    "    else:\n",
    "        return None"
   ]
  },
  {
   "cell_type": "code",
   "execution_count": 77,
   "metadata": {},
   "outputs": [
    {
     "name": "stdout",
     "output_type": "stream",
     "text": [
      "[[ 1 -1  0]\n",
      " [-1  1  0]\n",
      " [-1  0  1]]\n",
      "x wins\n"
     ]
    }
   ],
   "source": [
    "board = np.array([[1,-1,0],[-1,1,0],[-1,0,1]])\n",
    "print(board)\n",
    "print(winner(board),'wins')"
   ]
  },
  {
   "cell_type": "code",
   "execution_count": 78,
   "metadata": {},
   "outputs": [
    {
     "name": "stdout",
     "output_type": "stream",
     "text": [
      "[[-1  0  1]\n",
      " [ 0 -1 -1]\n",
      " [ 1  1 -1]]\n",
      "o wins\n"
     ]
    }
   ],
   "source": [
    "board = np.array([[-1,0,1],[0,-1,-1],[1,1,-1]])\n",
    "print(board)\n",
    "print(winner(board),'wins')"
   ]
  },
  {
   "cell_type": "code",
   "execution_count": 79,
   "metadata": {},
   "outputs": [
    {
     "name": "stdout",
     "output_type": "stream",
     "text": [
      "[[ 1  1  1]\n",
      " [-1 -1  0]\n",
      " [ 0  0 -1]]\n",
      "x wins\n"
     ]
    }
   ],
   "source": [
    "board = np.array([[1,1,1],[-1,-1,0],[0,0,-1]])\n",
    "print(board)\n",
    "print(winner(board),'wins')"
   ]
  },
  {
   "cell_type": "code",
   "execution_count": 80,
   "metadata": {},
   "outputs": [
    {
     "name": "stdout",
     "output_type": "stream",
     "text": [
      "[[ 1  0 -1]\n",
      " [ 1  0 -1]\n",
      " [ 0  1 -1]]\n",
      "o wins\n"
     ]
    }
   ],
   "source": [
    "board = np.array([[1,0,-1],[1,0,-1],[0,1,-1]])\n",
    "print(board)\n",
    "print(winner(board),'wins')"
   ]
  },
  {
   "cell_type": "code",
   "execution_count": null,
   "metadata": {},
   "outputs": [],
   "source": []
  }
 ],
 "metadata": {
  "kernelspec": {
   "display_name": "Python 3",
   "language": "python",
   "name": "python3"
  },
  "language_info": {
   "codemirror_mode": {
    "name": "ipython",
    "version": 3
   },
   "file_extension": ".py",
   "mimetype": "text/x-python",
   "name": "python",
   "nbconvert_exporter": "python",
   "pygments_lexer": "ipython3",
   "version": "3.6.5"
  }
 },
 "nbformat": 4,
 "nbformat_minor": 2
}
