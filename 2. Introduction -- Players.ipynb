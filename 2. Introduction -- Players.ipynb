{
 "cells": [
  {
   "cell_type": "code",
   "execution_count": 1,
   "metadata": {},
   "outputs": [
    {
     "name": "stdout",
     "output_type": "stream",
     "text": [
      "RandomPlayer w/l/t=0/0/1 RandomPlayer w/l/t=0/0/1\n"
     ]
    }
   ],
   "source": [
    "from tictactoe import *\n",
    "\n",
    "r0 = RandomPlayer()\n",
    "r1 = RandomPlayer()\n",
    "g = Game(r0,r1)\n",
    "g.play()\n",
    "print(r0,r1)"
   ]
  },
  {
   "cell_type": "code",
   "execution_count": 2,
   "metadata": {},
   "outputs": [
    {
     "name": "stdout",
     "output_type": "stream",
     "text": [
      "\n",
      "---( 1 )--------------------------\n",
      "0   1   2   \n",
      "\n",
      "3   4   X   \n",
      "\n",
      "6   7   8   \n",
      "\n",
      "x state = 10084, o state = 9598\n",
      "\n",
      "---( 2 )--------------------------\n",
      "0   1   2   \n",
      "\n",
      "O   4   X   \n",
      "\n",
      "6   7   8   \n",
      "\n",
      "x state = 10057, o state = 9625\n",
      "\n",
      "---( 3 )--------------------------\n",
      "0   1   2   \n",
      "\n",
      "O   4   X   \n",
      "\n",
      "X   7   8   \n",
      "\n",
      "x state = 10786, o state = 8896\n",
      "\n",
      "---( 4 )--------------------------\n",
      "0   1   O   \n",
      "\n",
      "O   4   X   \n",
      "\n",
      "X   7   8   \n",
      "\n",
      "x state = 10777, o state = 8905\n",
      "\n",
      "---( 5 )--------------------------\n",
      "0   X   O   \n",
      "\n",
      "O   4   X   \n",
      "\n",
      "X   7   8   \n",
      "\n",
      "x state = 10780, o state = 8902\n",
      "\n",
      "---( 6 )--------------------------\n",
      "0   X   O   \n",
      "\n",
      "O   4   X   \n",
      "\n",
      "X   O   8   \n",
      "\n",
      "x state = 8593, o state = 11089\n",
      "\n",
      "---( 7 )--------------------------\n",
      "0   X   O   \n",
      "\n",
      "O   X   X   \n",
      "\n",
      "X   O   8   \n",
      "\n",
      "x state = 8674, o state = 11008\n",
      "\n",
      "---( 8 )--------------------------\n",
      "0   X   O   \n",
      "\n",
      "O   X   X   \n",
      "\n",
      "X   O   O   \n",
      "\n",
      "x state = 2113, o state = 17569\n",
      "\n",
      "---( 9 )--------------------------\n",
      "X   X   O   \n",
      "\n",
      "O   X   X   \n",
      "\n",
      "X   O   O   \n",
      "\n",
      "x state = 2114, o state = 17568\n",
      "RandomPlayer w/l/t=0/0/1 RandomPlayer w/l/t=0/0/1\n"
     ]
    }
   ],
   "source": [
    "r0 = RandomPlayer(display=True)\n",
    "r1 = RandomPlayer(display=True)\n",
    "g = Game(r0,r1)\n",
    "g.play()\n",
    "print(r0,r1)"
   ]
  },
  {
   "cell_type": "code",
   "execution_count": 3,
   "metadata": {},
   "outputs": [
    {
     "name": "stdout",
     "output_type": "stream",
     "text": [
      "\n",
      "---( 1 )--------------------------\n",
      "0   1   2   \n",
      "\n",
      "3   4   X   \n",
      "\n",
      "6   7   8   \n",
      "\n",
      "x state = 10084, o state = 9598\n",
      "\n",
      "---( 2 )--------------------------\n",
      "0   1   O   \n",
      "\n",
      "3   4   X   \n",
      "\n",
      "6   7   8   \n",
      "\n",
      "x state = 10075, o state = 9607\n",
      "\n",
      "---( 3 )--------------------------\n",
      "0   1   O   \n",
      "\n",
      "3   4   X   \n",
      "\n",
      "6   7   X   \n",
      "\n",
      "x state = 16636, o state = 3046\n",
      "\n",
      "---( 4 )--------------------------\n",
      "0   1   O   \n",
      "\n",
      "3   4   X   \n",
      "\n",
      "6   O   X   \n",
      "\n",
      "x state = 14449, o state = 5233\n",
      "\n",
      "---( 5 )--------------------------\n",
      "0   X   O   \n",
      "\n",
      "3   4   X   \n",
      "\n",
      "6   O   X   \n",
      "\n",
      "x state = 14452, o state = 5230\n",
      "\n",
      "---( 6 )--------------------------\n",
      "0   X   O   \n",
      "\n",
      "3   O   X   \n",
      "\n",
      "6   O   X   \n",
      "\n",
      "x state = 14371, o state = 5311\n",
      "\n",
      "---( 7 )--------------------------\n",
      "0   X   O   \n",
      "\n",
      "X   O   X   \n",
      "\n",
      "6   O   X   \n",
      "\n",
      "x state = 14398, o state = 5284\n",
      "\n",
      "---( 8 )--------------------------\n",
      "0   X   O   \n",
      "\n",
      "X   O   X   \n",
      "\n",
      "O   O   X   \n",
      "\n",
      "x state = 13669, o state = 6013\n",
      "RandomPlayer w/l/t=0/1/0 ProceduralPlayer w/l/t=1/0/0\n"
     ]
    }
   ],
   "source": [
    "r0 = RandomPlayer(display=True)\n",
    "p0 = ProceduralPlayer(display=True)\n",
    "g = Game(r0,p0)\n",
    "g.play()\n",
    "print(r0,p0)"
   ]
  },
  {
   "cell_type": "code",
   "execution_count": 4,
   "metadata": {},
   "outputs": [
    {
     "name": "stdout",
     "output_type": "stream",
     "text": [
      "RandomPlayer w/l/t=1/3/2 ProceduralPlayer w/l/t=3/1/2\n",
      "[9841, 16402, 16401, 17130, 14943, 14946, 14919, 14928, 14847]\n",
      "None\n"
     ]
    }
   ],
   "source": [
    "r0 = RandomPlayer()\n",
    "p0 = ProceduralPlayer()\n",
    "g = Game(r0,p0)\n",
    "while (g.play() != 1):\n",
    "    pass\n",
    "print(r0,p0)\n",
    "print(g.replay())"
   ]
  },
  {
   "cell_type": "code",
   "execution_count": null,
   "metadata": {},
   "outputs": [],
   "source": []
  }
 ],
 "metadata": {
  "kernelspec": {
   "display_name": "Python 3",
   "language": "python",
   "name": "python3"
  },
  "language_info": {
   "codemirror_mode": {
    "name": "ipython",
    "version": 3
   },
   "file_extension": ".py",
   "mimetype": "text/x-python",
   "name": "python",
   "nbconvert_exporter": "python",
   "pygments_lexer": "ipython3",
   "version": "3.6.5"
  }
 },
 "nbformat": 4,
 "nbformat_minor": 2
}
