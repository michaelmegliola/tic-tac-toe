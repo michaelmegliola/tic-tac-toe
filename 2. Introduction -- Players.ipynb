{
 "cells": [
  {
   "cell_type": "code",
   "execution_count": 1,
   "metadata": {},
   "outputs": [
    {
     "name": "stdout",
     "output_type": "stream",
     "text": [
      "RandomPlayer w/l/t=1/0/0 RandomPlayer w/l/t=0/1/0\n"
     ]
    }
   ],
   "source": [
    "from tictactoe import *\n",
    "\n",
    "r0 = RandomPlayer()\n",
    "r1 = RandomPlayer()\n",
    "g = Game(r0,r1)\n",
    "g.play()\n",
    "print(r0,r1)"
   ]
  },
  {
   "cell_type": "code",
   "execution_count": 2,
   "metadata": {},
   "outputs": [
    {
     "name": "stdout",
     "output_type": "stream",
     "text": [
      "\n",
      "---( 1 )--------------------------\n",
      "0   1   2   \n",
      "\n",
      "3   4   5   \n",
      "\n",
      "X   7   8   \n",
      "\n",
      "x state = 10570, o state = 9112\n",
      "\n",
      "---( 2 )--------------------------\n",
      "0   1   2   \n",
      "\n",
      "3   4   5   \n",
      "\n",
      "X   7   O   \n",
      "\n",
      "x state = 4009, o state = 15673\n",
      "\n",
      "---( 3 )--------------------------\n",
      "0   1   2   \n",
      "\n",
      "3   X   5   \n",
      "\n",
      "X   7   O   \n",
      "\n",
      "x state = 4090, o state = 15592\n",
      "\n",
      "---( 4 )--------------------------\n",
      "0   1   2   \n",
      "\n",
      "3   X   5   \n",
      "\n",
      "X   O   O   \n",
      "\n",
      "x state = 1903, o state = 17779\n",
      "\n",
      "---( 5 )--------------------------\n",
      "0   1   2   \n",
      "\n",
      "X   X   5   \n",
      "\n",
      "X   O   O   \n",
      "\n",
      "x state = 1930, o state = 17752\n",
      "\n",
      "---( 6 )--------------------------\n",
      "0   1   O   \n",
      "\n",
      "X   X   5   \n",
      "\n",
      "X   O   O   \n",
      "\n",
      "x state = 1921, o state = 17761\n",
      "\n",
      "---( 7 )--------------------------\n",
      "0   1   O   \n",
      "\n",
      "X   X   X   \n",
      "\n",
      "X   O   O   \n",
      "\n",
      "x state = 2164, o state = 17518\n",
      "RandomPlayer w/l/t=1/0/0 RandomPlayer w/l/t=0/1/0\n"
     ]
    }
   ],
   "source": [
    "r0 = RandomPlayer(display=True)\n",
    "r1 = RandomPlayer(display=True)\n",
    "g = Game(r0,r1)\n",
    "g.play()\n",
    "print(r0,r1)"
   ]
  },
  {
   "cell_type": "code",
   "execution_count": 4,
   "metadata": {},
   "outputs": [
    {
     "name": "stdout",
     "output_type": "stream",
     "text": [
      "\n",
      "---( 1 )--------------------------\n",
      "0   1   2   \n",
      "\n",
      "3   X   5   \n",
      "\n",
      "6   7   8   \n",
      "\n",
      "x state = 9922, o state = 9760\n",
      "\n",
      "---( 2 )--------------------------\n",
      "O   1   2   \n",
      "\n",
      "3   X   5   \n",
      "\n",
      "6   7   8   \n",
      "\n",
      "x state = 9921, o state = 9761\n",
      "\n",
      "---( 3 )--------------------------\n",
      "O   1   2   \n",
      "\n",
      "3   X   5   \n",
      "\n",
      "X   7   8   \n",
      "\n",
      "x state = 10650, o state = 9032\n",
      "\n",
      "---( 4 )--------------------------\n",
      "O   1   2   \n",
      "\n",
      "3   X   5   \n",
      "\n",
      "X   O   8   \n",
      "\n",
      "x state = 8463, o state = 11219\n",
      "\n",
      "---( 5 )--------------------------\n",
      "O   1   2   \n",
      "\n",
      "X   X   5   \n",
      "\n",
      "X   O   8   \n",
      "\n",
      "x state = 8490, o state = 11192\n",
      "\n",
      "---( 6 )--------------------------\n",
      "O   1   O   \n",
      "\n",
      "X   X   5   \n",
      "\n",
      "X   O   8   \n",
      "\n",
      "x state = 8481, o state = 11201\n",
      "\n",
      "---( 7 )--------------------------\n",
      "O   1   O   \n",
      "\n",
      "X   X   X   \n",
      "\n",
      "X   O   8   \n",
      "\n",
      "x state = 8724, o state = 10958\n",
      "RandomPlayer w/l/t=1/0/0 ProceduralPlayer w/l/t=0/1/0\n"
     ]
    }
   ],
   "source": [
    "r0 = RandomPlayer(display=True)\n",
    "p0 = ProceduralPlayer(display=True)\n",
    "g = Game(r0,p0)\n",
    "g.play()\n",
    "print(r0,p0)"
   ]
  },
  {
   "cell_type": "code",
   "execution_count": null,
   "metadata": {},
   "outputs": [],
   "source": []
  }
 ],
 "metadata": {
  "kernelspec": {
   "display_name": "Python 3",
   "language": "python",
   "name": "python3"
  },
  "language_info": {
   "codemirror_mode": {
    "name": "ipython",
    "version": 3
   },
   "file_extension": ".py",
   "mimetype": "text/x-python",
   "name": "python",
   "nbconvert_exporter": "python",
   "pygments_lexer": "ipython3",
   "version": "3.6.4"
  }
 },
 "nbformat": 4,
 "nbformat_minor": 2
}
