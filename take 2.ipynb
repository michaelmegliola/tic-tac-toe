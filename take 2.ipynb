{
 "cells": [
  {
   "cell_type": "code",
   "execution_count": null,
   "metadata": {},
   "outputs": [
    {
     "name": "stdout",
     "output_type": "stream",
     "text": [
      "100000 QPlayer w/l/t=12390/37687/49923 VeryGoodPlayer w/l/t=37687/12390/49923\n",
      "200000 QPlayer w/l/t=12455/37635/49910 VeryGoodPlayer w/l/t=75322/24845/99833\n",
      "300000 QPlayer w/l/t=12423/37383/50194 VeryGoodPlayer w/l/t=112705/37268/150027\n",
      "400000 QPlayer w/l/t=12330/37883/49787 VeryGoodPlayer w/l/t=150588/49598/199814\n",
      "500000 QPlayer w/l/t=12580/37359/50061 VeryGoodPlayer w/l/t=187947/62178/249875\n",
      "600000 QPlayer w/l/t=12546/37517/49937 VeryGoodPlayer w/l/t=225464/74724/299812\n",
      "700000 QPlayer w/l/t=12603/37345/50052 VeryGoodPlayer w/l/t=262809/87327/349864\n",
      "800000 QPlayer w/l/t=12479/37470/50051 VeryGoodPlayer w/l/t=300279/99806/399915\n",
      "900000 QPlayer w/l/t=12348/37548/50104 VeryGoodPlayer w/l/t=337827/112154/450019\n",
      "1000000 QPlayer w/l/t=12465/37468/50067 VeryGoodPlayer w/l/t=375295/124619/500086\n",
      "1100000 QPlayer w/l/t=12398/37562/50040 VeryGoodPlayer w/l/t=412857/137017/550126\n",
      "1200000 QPlayer w/l/t=12467/37348/50185 VeryGoodPlayer w/l/t=450205/149484/600311\n",
      "1300000 QPlayer w/l/t=12384/37460/50156 VeryGoodPlayer w/l/t=487665/161868/650467\n",
      "1400000 QPlayer w/l/t=12547/37500/49953 VeryGoodPlayer w/l/t=525165/174415/700420\n",
      "1500000 QPlayer w/l/t=12441/37233/50326 VeryGoodPlayer w/l/t=562398/186856/750746\n",
      "1600000 QPlayer w/l/t=12494/37715/49791 VeryGoodPlayer w/l/t=600113/199350/800537\n",
      "1700000 QPlayer w/l/t=12345/37673/49982 VeryGoodPlayer w/l/t=637786/211695/850519\n",
      "1800000 QPlayer w/l/t=12432/37562/50006 VeryGoodPlayer w/l/t=675348/224127/900525\n",
      "1900000 QPlayer w/l/t=12376/37443/50181 VeryGoodPlayer w/l/t=712791/236503/950706\n",
      "2000000 QPlayer w/l/t=12571/37201/50228 VeryGoodPlayer w/l/t=749992/249074/1000934\n",
      "2100000 QPlayer w/l/t=12369/37647/49984 VeryGoodPlayer w/l/t=787639/261443/1050918\n",
      "2200000 QPlayer w/l/t=12641/37183/50176 VeryGoodPlayer w/l/t=824822/274084/1101094\n",
      "2300000 QPlayer w/l/t=12393/37435/50172 VeryGoodPlayer w/l/t=862257/286477/1151266\n",
      "2400000 QPlayer w/l/t=12601/37432/49967 VeryGoodPlayer w/l/t=899689/299078/1201233\n",
      "2500000 QPlayer w/l/t=12545/37388/50067 VeryGoodPlayer w/l/t=937077/311623/1251300\n",
      "2600000 QPlayer w/l/t=12570/37732/49698 VeryGoodPlayer w/l/t=974809/324193/1300998\n"
     ]
    }
   ],
   "source": [
    "from tictactoe import *\n",
    "\n",
    "class QPlayer(BasePlayer):\n",
    "    \n",
    "    EXPLORE = 0.00\n",
    "    ALPHA = 1.0\n",
    "    EPSILON = 0.0\n",
    " \n",
    "    def __init__(self, explore=EXPLORE, alpha=ALPHA, epsilon=EPSILON):\n",
    "        super().__init__()\n",
    "        self.q_table = np.zeros([3**9,9])\n",
    "        self.explore = explore\n",
    "        self.a = alpha\n",
    "        self.e = epsilon\n",
    "        \n",
    "    def move(self, game, state):\n",
    "        self.state = state\n",
    "        self.action = np.argmax(self.q_table[self.state])\n",
    "        #print('MOVE / STATE=',state,'ACTION=',self.action,self.q_table[self.state],np.argmax(self.q_table[self.state]))\n",
    "        if np.random.random() < self.explore:\n",
    "            self.action = game.sequential()\n",
    "            #print('exploring...',self.action,self.q_table[self.state],np.argmax(self.q_table[self.state]))\n",
    "        return self.action\n",
    "\n",
    "    def update(self, game, state, reward):\n",
    "        self.q_table[self.state][self.action] = ((1 - self.a) * self.q_table[self.state][self.action]\n",
    "                                                  + self.a * (reward + self.e * np.amax(self.q_table[state])))\n",
    "        #print('UPDATE / STATE=',state,'REWARD=',reward,'FUTURE=',self.q_table[state])\n",
    "\n",
    "q = QPlayer()\n",
    "r = VeryGoodPlayer()\n",
    "g = Game(q,r)\n",
    "i = 0\n",
    "while True:\n",
    "    g.play()\n",
    "    i += 1\n",
    "    if i % 100000 == 0:\n",
    "        print(i,q,r)\n",
    "        q.reset_metrics()\n"
   ]
  },
  {
   "cell_type": "code",
   "execution_count": null,
   "metadata": {},
   "outputs": [],
   "source": []
  }
 ],
 "metadata": {
  "kernelspec": {
   "display_name": "Python 3",
   "language": "python",
   "name": "python3"
  },
  "language_info": {
   "codemirror_mode": {
    "name": "ipython",
    "version": 3
   },
   "file_extension": ".py",
   "mimetype": "text/x-python",
   "name": "python",
   "nbconvert_exporter": "python",
   "pygments_lexer": "ipython3",
   "version": "3.6.4"
  }
 },
 "nbformat": 4,
 "nbformat_minor": 2
}
