{
 "cells": [
  {
   "cell_type": "code",
   "execution_count": 9,
   "metadata": {},
   "outputs": [
    {
     "name": "stdout",
     "output_type": "stream",
     "text": [
      "MinimaxPlayer w/l/t=4/0/6 VeryGoodPlayer w/l/t=0/4/6\n"
     ]
    }
   ],
   "source": [
    "from tictactoe import *\n",
    "\n",
    "x = MinimaxPlayer()\n",
    "o = VeryGoodPlayer()\n",
    "g = Game(o,x)\n",
    "for i in range(10):\n",
    "    g.play()\n",
    "    \n",
    "print(x,o)\n"
   ]
  },
  {
   "cell_type": "code",
   "execution_count": null,
   "metadata": {},
   "outputs": [],
   "source": []
  }
 ],
 "metadata": {
  "kernelspec": {
   "display_name": "Python 3",
   "language": "python",
   "name": "python3"
  },
  "language_info": {
   "codemirror_mode": {
    "name": "ipython",
    "version": 3
   },
   "file_extension": ".py",
   "mimetype": "text/x-python",
   "name": "python",
   "nbconvert_exporter": "python",
   "pygments_lexer": "ipython3",
   "version": "3.6.5"
  }
 },
 "nbformat": 4,
 "nbformat_minor": 2
}
