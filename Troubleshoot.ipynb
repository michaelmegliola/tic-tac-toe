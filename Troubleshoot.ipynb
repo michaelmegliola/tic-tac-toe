{
 "cells": [
  {
   "cell_type": "code",
   "execution_count": 1,
   "metadata": {},
   "outputs": [
    {
     "name": "stdout",
     "output_type": "stream",
     "text": [
      "                  \n",
      " 0     1     2    \n",
      "                  \n",
      "\n",
      "\\ /         OOO   \n",
      " X     4    O O   \n",
      "/ \\         OOO   \n",
      "\n",
      "\\ /   OOO   \\ /   \n",
      " X    O O    X    \n",
      "/ \\   OOO   / \\   \n",
      "\n",
      "\n"
     ]
    }
   ],
   "source": [
    "from tictactoe import *\n",
    "\n",
    "g = Game()\n",
    "b = Game.construct_board(14728)\n",
    "print(Game.draw(b))"
   ]
  },
  {
   "cell_type": "code",
   "execution_count": 2,
   "metadata": {},
   "outputs": [
    {
     "name": "stdout",
     "output_type": "stream",
     "text": [
      "4954\n"
     ]
    }
   ],
   "source": [
    "p = ProceduralPlayer()\n",
    "p.set_n(-1)\n",
    "print(g.state(p,b))"
   ]
  },
  {
   "cell_type": "code",
   "execution_count": 3,
   "metadata": {},
   "outputs": [
    {
     "name": "stdout",
     "output_type": "stream",
     "text": [
      "                  \n",
      " 0     1     2    \n",
      "                  \n",
      "\n",
      "OOO         \\ /   \n",
      "O O    4     X    \n",
      "OOO         / \\   \n",
      "\n",
      "OOO   \\ /   OOO   \n",
      "O O    X    O O   \n",
      "OOO   / \\   OOO   \n",
      "\n",
      "\n"
     ]
    }
   ],
   "source": [
    "b = Game.construct_board(4954)\n",
    "print(Game.draw(b))"
   ]
  },
  {
   "cell_type": "code",
   "execution_count": 4,
   "metadata": {},
   "outputs": [
    {
     "name": "stdout",
     "output_type": "stream",
     "text": [
      "[[ 0.  0.  0.]\n",
      " [ 1.  0. -1.]\n",
      " [ 1. -1.  1.]]\n"
     ]
    }
   ],
   "source": [
    "g.board = Game.construct_board(14728)\n",
    "print(g.board)"
   ]
  },
  {
   "cell_type": "code",
   "execution_count": 5,
   "metadata": {},
   "outputs": [
    {
     "name": "stdout",
     "output_type": "stream",
     "text": [
      "4\n"
     ]
    }
   ],
   "source": [
    "print(p.move(g,14728))"
   ]
  },
  {
   "cell_type": "code",
   "execution_count": 6,
   "metadata": {},
   "outputs": [],
   "source": [
    "class W(BasePlayer):\n",
    "    \n",
    "    def __init__(self,display=False):\n",
    "        super().__init__(display)\n",
    "    \n",
    "    def move(self, game, state):\n",
    "        move = self.winning_move(game)\n",
    "        if move != 0:\n",
    "            return move\n",
    "        move = self.block_opponent(game)\n",
    "        if move != 0:\n",
    "            return move\n",
    "        return game.sample()\n",
    "\n",
    "    def winning_move(self, game):\n",
    "        for row in range(3):\n",
    "            for col in range(3):\n",
    "                if game.board[row][col] == 0:\n",
    "                    game.board[row][col] = self.n\n",
    "                    max_min = game.max_min()\n",
    "                    game.board[row][col] = 0\n",
    "                    if max_min[0] == self.n * 3 or max_min[1] == self.n * 3:\n",
    "                        return row * 3 + col\n",
    "        return 0\n",
    "\n",
    "    def block_opponent(self, game):\n",
    "        for row in range(3):\n",
    "            for col in range(3):\n",
    "                if game.board[row][col] == 0:\n",
    "                    game.board[row][col] = -self.n\n",
    "                    max_min = game.max_min()\n",
    "                    print(row,col,max_min)\n",
    "                    game.board[row][col] = 0\n",
    "                    if max_min[0] == -self.n * 3 or max_min[1] == -self.n * 3:\n",
    "                        return row * 3 + col\n",
    "        return 0\n",
    "        \n",
    "    def update(self, board, state, reward):\n",
    "        pass"
   ]
  },
  {
   "cell_type": "code",
   "execution_count": 7,
   "metadata": {},
   "outputs": [
    {
     "name": "stdout",
     "output_type": "stream",
     "text": [
      "[[ 0.  0.  0.]\n",
      " [-1.  0.  1.]\n",
      " [-1.  1. -1.]]\n",
      "0 0 (3.0, -1.0)\n",
      "4\n"
     ]
    }
   ],
   "source": [
    "print(b)\n",
    "w = W()\n",
    "w.set_n(-1)\n",
    "print(w.move(g,14728))"
   ]
  },
  {
   "cell_type": "code",
   "execution_count": 8,
   "metadata": {},
   "outputs": [
    {
     "name": "stdout",
     "output_type": "stream",
     "text": [
      "\n",
      "---( 0 )--------------------------\n",
      "\n",
      "                  \n",
      " 0     1     2    \n",
      "                  \n",
      "\n",
      "\\ /         OOO   \n",
      " X     4    O O   \n",
      "/ \\         OOO   \n",
      "\n",
      "\\ /   OOO   \\ /   \n",
      " X    O O    X    \n",
      "/ \\   OOO   / \\   \n",
      "\n",
      "x state = 14728, o state = 4954\n"
     ]
    }
   ],
   "source": [
    "print(g)"
   ]
  },
  {
   "cell_type": "code",
   "execution_count": null,
   "metadata": {},
   "outputs": [],
   "source": []
  }
 ],
 "metadata": {
  "kernelspec": {
   "display_name": "Python 3",
   "language": "python",
   "name": "python3"
  },
  "language_info": {
   "codemirror_mode": {
    "name": "ipython",
    "version": 3
   },
   "file_extension": ".py",
   "mimetype": "text/x-python",
   "name": "python",
   "nbconvert_exporter": "python",
   "pygments_lexer": "ipython3",
   "version": "3.6.5"
  }
 },
 "nbformat": 4,
 "nbformat_minor": 2
}
