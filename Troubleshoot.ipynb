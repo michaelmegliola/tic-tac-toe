{
 "cells": [
  {
   "cell_type": "code",
   "execution_count": null,
   "metadata": {},
   "outputs": [
    {
     "name": "stdout",
     "output_type": "stream",
     "text": [
      "\n",
      "---( 0 )--------------------------\n",
      "\n",
      "                  \n",
      " 0     1     2    \n",
      "                  \n",
      "\n",
      "                  \n",
      " 3     4     5    \n",
      "                  \n",
      "\n",
      "                  \n",
      " 6     7     8    \n",
      "                  \n",
      "\n",
      "x state = 9841, o state = 9841\n",
      "0\n",
      "\n",
      "---( 2 )--------------------------\n",
      "\n",
      "\\ /               \n",
      " X     1     2    \n",
      "/ \\               \n",
      "\n",
      "      OOO         \n",
      " 3    O O    5    \n",
      "      OOO         \n",
      "\n",
      "                  \n",
      " 6     7     8    \n",
      "                  \n",
      "\n",
      "x state = 9761, o state = 9921\n"
     ]
    }
   ],
   "source": [
    "from tictactoe import *\n",
    "\n",
    "x = MinimaxPlayer()\n",
    "o = HumanPlayer()\n",
    "g = Game(o,x)\n",
    "g.play()\n"
   ]
  },
  {
   "cell_type": "code",
   "execution_count": null,
   "metadata": {},
   "outputs": [],
   "source": []
  }
 ],
 "metadata": {
  "kernelspec": {
   "display_name": "Python 3",
   "language": "python",
   "name": "python3"
  },
  "language_info": {
   "codemirror_mode": {
    "name": "ipython",
    "version": 3
   },
   "file_extension": ".py",
   "mimetype": "text/x-python",
   "name": "python",
   "nbconvert_exporter": "python",
   "pygments_lexer": "ipython3",
   "version": "3.6.5"
  }
 },
 "nbformat": 4,
 "nbformat_minor": 2
}
