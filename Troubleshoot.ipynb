{
 "cells": [
  {
   "cell_type": "code",
   "execution_count": 44,
   "metadata": {},
   "outputs": [
    {
     "name": "stdout",
     "output_type": "stream",
     "text": [
      "      \\ /         \n",
      " 0     X     2    \n",
      "      / \\         \n",
      "\n",
      "            OOO   \n",
      " 3     4    O O   \n",
      "            OOO   \n",
      "\n",
      "\\ /   OOO         \n",
      " X    O O    8    \n",
      "/ \\   OOO         \n",
      "\n",
      "\n"
     ]
    }
   ],
   "source": [
    "from tictactoe import *\n",
    "\n",
    "g = Game()\n",
    "b = Game.construct_board(8143)\n",
    "print(Game.draw(b))"
   ]
  },
  {
   "cell_type": "code",
   "execution_count": 45,
   "metadata": {},
   "outputs": [
    {
     "data": {
      "text/plain": [
       "array([[ 0.,  1.,  0.],\n",
       "       [ 0.,  0., -1.],\n",
       "       [ 1., -1.,  0.]])"
      ]
     },
     "execution_count": 45,
     "metadata": {},
     "output_type": "execute_result"
    }
   ],
   "source": [
    "b"
   ]
  },
  {
   "cell_type": "code",
   "execution_count": 46,
   "metadata": {},
   "outputs": [],
   "source": [
    "def double_winner(board, n):\n",
    "    for row in range(3):\n",
    "        for col in range(3):\n",
    "            print(row,col,board[row][col])\n",
    "            if board[row][col] == 0:\n",
    "                board[row][col] = n\n",
    "                w_col = [1 for x in np.sum(board,0) if x == n*2]\n",
    "                w_row = [1 for x in np.sum(board,1) if x == n*2]\n",
    "                winners = int(np.sum(w_col) + np.sum(w_row))        \n",
    "                winners += (1 if board.trace(0) == n*2 else 0)\n",
    "                winners += 1 if np.flip(board,0).trace(0) == n*2 else 0\n",
    "                print(row,col,winners)\n",
    "                board[row][col] = 0\n",
    "                if winners > 1:\n",
    "                    return row * 3 + col\n",
    "    return -1"
   ]
  },
  {
   "cell_type": "code",
   "execution_count": 47,
   "metadata": {},
   "outputs": [
    {
     "name": "stdout",
     "output_type": "stream",
     "text": [
      "0 0 0.0\n",
      "0 0 2\n"
     ]
    },
    {
     "data": {
      "text/plain": [
       "0"
      ]
     },
     "execution_count": 47,
     "metadata": {},
     "output_type": "execute_result"
    }
   ],
   "source": [
    "double_winner(b,1)"
   ]
  },
  {
   "cell_type": "code",
   "execution_count": 48,
   "metadata": {},
   "outputs": [
    {
     "data": {
      "text/plain": [
       "array([[ 0.,  1.,  0.],\n",
       "       [ 0.,  0., -1.],\n",
       "       [ 1., -1.,  0.]])"
      ]
     },
     "execution_count": 48,
     "metadata": {},
     "output_type": "execute_result"
    }
   ],
   "source": [
    "b"
   ]
  },
  {
   "cell_type": "code",
   "execution_count": null,
   "metadata": {},
   "outputs": [],
   "source": []
  }
 ],
 "metadata": {
  "kernelspec": {
   "display_name": "Python 3",
   "language": "python",
   "name": "python3"
  },
  "language_info": {
   "codemirror_mode": {
    "name": "ipython",
    "version": 3
   },
   "file_extension": ".py",
   "mimetype": "text/x-python",
   "name": "python",
   "nbconvert_exporter": "python",
   "pygments_lexer": "ipython3",
   "version": "3.6.5"
  }
 },
 "nbformat": 4,
 "nbformat_minor": 2
}
