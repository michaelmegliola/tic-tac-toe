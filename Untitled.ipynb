{
 "cells": [
  {
   "cell_type": "code",
   "execution_count": 8,
   "metadata": {},
   "outputs": [],
   "source": [
    "from tictactoe import *\n",
    "\n",
    "class QPlayer(BasePlayer):\n",
    "    \n",
    "    EXPLORE = 0.01\n",
    "    \n",
    "    def __init__(self, explore=EXPLORE):\n",
    "        super().__init__()\n",
    "        self.q_table = np.zeros([3**9,9])\n",
    "        self.explore = explore\n",
    "        self.state = 0\n",
    "        self.action = 0\n",
    "        \n",
    "    def move(self, game, state):\n",
    "        self.state = state\n",
    "        self.action = np.argmax(self.q_table[self.state])\n",
    "        if np.random.random() < self.explore:\n",
    "            self.action = game.sample()\n",
    "        return self.action\n",
    "\n",
    "    def update(self, game, state, reward):\n",
    "        self.q_table[self.state][self.action] += reward + np.amax(self.q_table[state])\n",
    "        self.q_table = np.minimum(self.q_table,  100)\n",
    "        self.q_table = np.maximum(self.q_table, -100)"
   ]
  },
  {
   "cell_type": "code",
   "execution_count": null,
   "metadata": {},
   "outputs": [
    {
     "name": "stdout",
     "output_type": "stream",
     "text": [
      "0 MinimaxPlayer w/l/t=1/0/9 QPlayer w/l/t=0/1/9 -901.0\n",
      "1 MinimaxPlayer w/l/t=10/0/0 QPlayer w/l/t=0/10/0 -924.0\n",
      "2 MinimaxPlayer w/l/t=10/0/0 QPlayer w/l/t=0/10/0 -1056.0\n",
      "3 MinimaxPlayer w/l/t=7/0/3 QPlayer w/l/t=0/7/3 -1300.0\n",
      "4 MinimaxPlayer w/l/t=0/0/10 QPlayer w/l/t=0/0/10 -1300.0\n",
      "5 MinimaxPlayer w/l/t=0/0/10 QPlayer w/l/t=0/0/10 -1300.0\n",
      "6 MinimaxPlayer w/l/t=1/0/9 QPlayer w/l/t=0/1/9 -1300.0\n",
      "7 MinimaxPlayer w/l/t=0/0/10 QPlayer w/l/t=0/0/10 -1300.0\n",
      "8 MinimaxPlayer w/l/t=0/0/10 QPlayer w/l/t=0/0/10 -1300.0\n",
      "9 MinimaxPlayer w/l/t=0/0/10 QPlayer w/l/t=0/0/10 -1300.0\n",
      "10 MinimaxPlayer w/l/t=0/0/10 QPlayer w/l/t=0/0/10 -1400.0\n",
      "11 MinimaxPlayer w/l/t=0/0/10 QPlayer w/l/t=0/0/10 -1400.0\n",
      "12 MinimaxPlayer w/l/t=0/0/10 QPlayer w/l/t=0/0/10 -1400.0\n",
      "13 MinimaxPlayer w/l/t=0/0/10 QPlayer w/l/t=0/0/10 -1400.0\n",
      "14 MinimaxPlayer w/l/t=0/0/10 QPlayer w/l/t=0/0/10 -1400.0\n",
      "15 MinimaxPlayer w/l/t=0/0/10 QPlayer w/l/t=0/0/10 -1400.0\n",
      "16 MinimaxPlayer w/l/t=0/0/10 QPlayer w/l/t=0/0/10 -1400.0\n",
      "17 MinimaxPlayer w/l/t=0/0/10 QPlayer w/l/t=0/0/10 -1400.0\n",
      "18 MinimaxPlayer w/l/t=0/0/10 QPlayer w/l/t=0/0/10 -1400.0\n",
      "19 MinimaxPlayer w/l/t=0/0/10 QPlayer w/l/t=0/0/10 -1400.0\n",
      "20 MinimaxPlayer w/l/t=0/0/10 QPlayer w/l/t=0/0/10 -1400.0\n",
      "21 MinimaxPlayer w/l/t=0/0/10 QPlayer w/l/t=0/0/10 -1500.0\n",
      "22 MinimaxPlayer w/l/t=0/0/10 QPlayer w/l/t=0/0/10 -1500.0\n",
      "23 MinimaxPlayer w/l/t=1/0/9 QPlayer w/l/t=0/1/9 -1501.0\n",
      "24 MinimaxPlayer w/l/t=0/0/10 QPlayer w/l/t=0/0/10 -1501.0\n",
      "25 MinimaxPlayer w/l/t=0/0/10 QPlayer w/l/t=0/0/10 -1601.0\n",
      "26 MinimaxPlayer w/l/t=0/0/10 QPlayer w/l/t=0/0/10 -1701.0\n",
      "27 MinimaxPlayer w/l/t=0/0/10 QPlayer w/l/t=0/0/10 -1701.0\n",
      "28 MinimaxPlayer w/l/t=0/0/10 QPlayer w/l/t=0/0/10 -1701.0\n",
      "29 MinimaxPlayer w/l/t=0/0/10 QPlayer w/l/t=0/0/10 -1701.0\n",
      "30 MinimaxPlayer w/l/t=0/0/10 QPlayer w/l/t=0/0/10 -1701.0\n",
      "31 MinimaxPlayer w/l/t=1/0/9 QPlayer w/l/t=0/1/9 -1701.0\n",
      "32 MinimaxPlayer w/l/t=0/0/10 QPlayer w/l/t=0/0/10 -1801.0\n",
      "33 MinimaxPlayer w/l/t=0/0/10 QPlayer w/l/t=0/0/10 -1801.0\n",
      "34 MinimaxPlayer w/l/t=0/0/10 QPlayer w/l/t=0/0/10 -1801.0\n",
      "35 MinimaxPlayer w/l/t=0/0/10 QPlayer w/l/t=0/0/10 -1801.0\n",
      "36 MinimaxPlayer w/l/t=0/0/10 QPlayer w/l/t=0/0/10 -1801.0\n",
      "37 MinimaxPlayer w/l/t=1/0/9 QPlayer w/l/t=0/1/9 -1801.0\n",
      "38 MinimaxPlayer w/l/t=0/0/10 QPlayer w/l/t=0/0/10 -1801.0\n",
      "39 MinimaxPlayer w/l/t=1/0/9 QPlayer w/l/t=0/1/9 -1801.0\n",
      "40 MinimaxPlayer w/l/t=0/0/10 QPlayer w/l/t=0/0/10 -1801.0\n",
      "41 MinimaxPlayer w/l/t=0/0/10 QPlayer w/l/t=0/0/10 -1901.0\n",
      "42 MinimaxPlayer w/l/t=0/0/10 QPlayer w/l/t=0/0/10 -1901.0\n",
      "43 MinimaxPlayer w/l/t=0/0/10 QPlayer w/l/t=0/0/10 -1901.0\n",
      "44 MinimaxPlayer w/l/t=0/0/10 QPlayer w/l/t=0/0/10 -2001.0\n",
      "45 MinimaxPlayer w/l/t=1/0/9 QPlayer w/l/t=0/1/9 -2002.0\n"
     ]
    }
   ],
   "source": [
    "q = QPlayer()\n",
    "m = MinimaxPlayer()\n",
    "g = Game(m,q)\n",
    "for i in range(100):\n",
    "    m.reset_metrics()\n",
    "    q.reset_metrics()\n",
    "    for n in range(10):\n",
    "        g.play()\n",
    "    print(i,m,q,np.sum(q.q_table))"
   ]
  },
  {
   "cell_type": "code",
   "execution_count": null,
   "metadata": {},
   "outputs": [],
   "source": []
  }
 ],
 "metadata": {
  "kernelspec": {
   "display_name": "Python 3",
   "language": "python",
   "name": "python3"
  },
  "language_info": {
   "codemirror_mode": {
    "name": "ipython",
    "version": 3
   },
   "file_extension": ".py",
   "mimetype": "text/x-python",
   "name": "python",
   "nbconvert_exporter": "python",
   "pygments_lexer": "ipython3",
   "version": "3.6.4"
  }
 },
 "nbformat": 4,
 "nbformat_minor": 2
}
